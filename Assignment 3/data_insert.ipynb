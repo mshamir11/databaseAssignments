{
 "metadata": {
  "language_info": {
   "codemirror_mode": {
    "name": "ipython",
    "version": 3
   },
   "file_extension": ".py",
   "mimetype": "text/x-python",
   "name": "python",
   "nbconvert_exporter": "python",
   "pygments_lexer": "ipython3",
   "version": "3.8.5-final"
  },
  "orig_nbformat": 2,
  "kernelspec": {
   "name": "python38564bitnlpprojectconda4a15517c1d7e4e03bf63fd7113c26f76",
   "display_name": "Python 3.8.5 64-bit ('nlp_project': conda)",
   "language": "python"
  }
 },
 "nbformat": 4,
 "nbformat_minor": 2,
 "cells": [
  {
   "cell_type": "code",
   "execution_count": 2,
   "metadata": {},
   "outputs": [],
   "source": [
    "import pandas as pd"
   ]
  },
  {
   "source": [
    "## Insert Teams into Database"
   ],
   "cell_type": "markdown",
   "metadata": {}
  },
  {
   "cell_type": "code",
   "execution_count": 8,
   "metadata": {},
   "outputs": [],
   "source": [
    "\n",
    "team_df = pd.read_csv(\"./dataset/team.csv\")\n",
    "team_f = open('./insert/team.sql','w')\n",
    "team_f.write(\"use ipl; \\n\\n\")\n",
    "a=team_df.columns\n",
    "\n",
    "query = f\"INSERT INTO team VALUES \"\n",
    "team_f.write(query)\n",
    "for j in range(len(team_df)):\n",
    "    query = f\"(\"\n",
    "    for i in range(len(team_df.columns)):\n",
    "        if i==len(team_df.columns)-1:\n",
    "            query = query + f\"'{team_df[a[i]][j]}'\"         \n",
    "        else:\n",
    "            query = query + f\"'{team_df[a[i]][j]}',\"\n",
    "            \n",
    "    if j==len(team_df)-1:\n",
    "        query = query + ') ;'\n",
    "    else:\n",
    "        query = query + '),'\n",
    "    team_f.write(query)\n",
    "\n",
    "\n",
    "\n",
    "team_f.close()\n",
    "\n",
    "\n"
   ]
  },
  {
   "source": [
    "## Insert Players into Database"
   ],
   "cell_type": "markdown",
   "metadata": {}
  },
  {
   "cell_type": "code",
   "execution_count": 7,
   "metadata": {},
   "outputs": [],
   "source": [
    "\n",
    "player_df = pd.read_csv(\"./dataset/player.csv\")\n",
    "player_f = open('./insert/player.sql','w')\n",
    "player_f.write(\"use ipl; \\n\\n\")\n",
    "a=player_df.columns\n",
    "\n",
    "query = f\"INSERT INTO player VALUES \"\n",
    "player_f.write(query)\n",
    "for j in range(len(player_df)):\n",
    "    query = f\"(\"\n",
    "    for i in range(len(player_df.columns)):\n",
    "        if i==len(player_df.columns)-1:\n",
    "            query = query + f\"'{player_df[a[i]][j]}'\"         \n",
    "        else:\n",
    "            query = query + f\"'{player_df[a[i]][j]}',\"\n",
    "            \n",
    "    if j==len(player_df)-1:\n",
    "        query = query + ') ;'\n",
    "    else:\n",
    "        query = query + '),'\n",
    "    player_f.write(query)\n",
    "\n",
    "\n",
    "\n",
    "player_f.close()\n",
    "\n",
    "\n"
   ]
  },
  {
   "source": [
    "## Insert Ball by Ball "
   ],
   "cell_type": "markdown",
   "metadata": {}
  },
  {
   "cell_type": "code",
   "execution_count": 6,
   "metadata": {},
   "outputs": [],
   "source": [
    "\n",
    "ball_by_ball_df = pd.read_csv(\"./dataset/ball_by_ball.csv\")\n",
    "ball_by_ball_f = open('./insert/ball_by_ball.sql','w')\n",
    "ball_by_ball_f.write(\"use ipl; \\n\\n\")\n",
    "a=ball_by_ball_df.columns\n",
    "\n",
    "query = f\"INSERT INTO ball_by_ball VALUES \"\n",
    "ball_by_ball_f.write(query)\n",
    "for j in range(len(ball_by_ball_df)):\n",
    "    query = f\"(\"\n",
    "    for i in range(len(ball_by_ball_df.columns)):\n",
    "        if i==len(ball_by_ball_df.columns)-1:\n",
    "            query = query + f\"'{ball_by_ball_df[a[i]][j]}'\"         \n",
    "        else:\n",
    "            query = query + f\"'{ball_by_ball_df[a[i]][j]}',\"\n",
    "            \n",
    "    if j==len(ball_by_ball_df)-1:\n",
    "        query = query + ') ;'\n",
    "    else:\n",
    "        query = query + '),'\n",
    "    ball_by_ball_f.write(query)\n",
    "\n",
    "\n",
    "\n",
    "ball_by_ball_f.close()\n",
    "\n",
    "\n"
   ]
  },
  {
   "source": [
    "## Insert into Wicket Taken"
   ],
   "cell_type": "markdown",
   "metadata": {}
  },
  {
   "cell_type": "code",
   "execution_count": 12,
   "metadata": {},
   "outputs": [],
   "source": [
    "\n",
    "wicket_taken_df = pd.read_csv(\"./dataset/wicket_taken.csv\")\n",
    "wicket_taken_f = open('./insert/wicket_taken.sql','w')\n",
    "wicket_taken_f.write(\"use ipl; \\n\\n\")\n",
    "a=wicket_taken_df.columns\n",
    "\n",
    "query = f\"INSERT INTO wicket_taken VALUES \"\n",
    "wicket_taken_f.write(query)\n",
    "for j in range(len(wicket_taken_df)):\n",
    "    query = f\"(\"\n",
    "    for i in range(len(wicket_taken_df.columns)):\n",
    "        if i==len(wicket_taken_df.columns)-1:\n",
    "            query = query + f\"'{wicket_taken_df[a[i]][j]}'\"         \n",
    "        else:\n",
    "            query = query + f\"'{wicket_taken_df[a[i]][j]}',\"\n",
    "            \n",
    "    if j==len(wicket_taken_df)-1:\n",
    "        query = query + ') ;'\n",
    "    else:\n",
    "        query = query + '),'\n",
    "    wicket_taken_f.write(query)\n",
    "\n",
    "\n",
    "\n",
    "wicket_taken_f.close()\n",
    "\n",
    "\n"
   ]
  },
  {
   "source": [
    "## Insert into batsman scored"
   ],
   "cell_type": "markdown",
   "metadata": {}
  },
  {
   "cell_type": "code",
   "execution_count": 13,
   "metadata": {},
   "outputs": [],
   "source": [
    "\n",
    "batsman_scored_df = pd.read_csv(\"./dataset/batsman_scored.csv\")\n",
    "batsman_scored_f = open('./insert/batsman_scored.sql','w')\n",
    "batsman_scored_f.write(\"use ipl; \\n\\n\")\n",
    "a=batsman_scored_df.columns\n",
    "\n",
    "query = f\"INSERT INTO batsman_scored VALUES \"\n",
    "batsman_scored_f.write(query)\n",
    "for j in range(len(batsman_scored_df)):\n",
    "    query = f\"(\"\n",
    "    for i in range(len(batsman_scored_df.columns)):\n",
    "        if i==len(batsman_scored_df.columns)-1:\n",
    "            query = query + f\"'{batsman_scored_df[a[i]][j]}'\"         \n",
    "        else:\n",
    "            query = query + f\"'{batsman_scored_df[a[i]][j]}',\"\n",
    "            \n",
    "    if j==len(batsman_scored_df)-1:\n",
    "        query = query + ') ;'\n",
    "    else:\n",
    "        query = query + '),'\n",
    "    batsman_scored_f.write(query)\n",
    "\n",
    "\n",
    "\n",
    "batsman_scored_f.close()\n",
    "\n",
    "\n"
   ]
  },
  {
   "source": [
    "## Insert into Match"
   ],
   "cell_type": "markdown",
   "metadata": {}
  },
  {
   "cell_type": "code",
   "execution_count": 36,
   "metadata": {},
   "outputs": [],
   "source": [
    "\n",
    "match_df = pd.read_csv(\"./dataset/match.csv\")\n",
    "match_df['venue(text)']=match_df['venue(text)'].replace([\"St George's Park\"],\"St George''s Park\")\n",
    "match_f = open('./insert/match.sql','w')\n",
    "match_f.write(\"use ipl; \\n\\n\")\n",
    "a=match_df.columns\n",
    "\n",
    "query = f\"INSERT INTO match_details VALUES \"\n",
    "match_f.write(query)\n",
    "for j in range(len(match_df)):\n",
    "    query = f\"(\"\n",
    "    for i in range(len(match_df.columns)):\n",
    "        if i==len(match_df.columns)-1:\n",
    "            query = query + f\"'{match_df[a[i]][j]}'\"         \n",
    "        else:\n",
    "            query = query + f\"'{match_df[a[i]][j]}',\"\n",
    "            \n",
    "    if j==len(match_df)-1:\n",
    "        query = query + ') ;'\n",
    "    else:\n",
    "        query = query + '),'\n",
    "    match_f.write(query)\n",
    "\n",
    "\n",
    "\n",
    "match_f.close()\n",
    "\n",
    "\n"
   ]
  },
  {
   "source": [
    "## Insert into Player Match"
   ],
   "cell_type": "markdown",
   "metadata": {}
  },
  {
   "cell_type": "code",
   "execution_count": 16,
   "metadata": {},
   "outputs": [],
   "source": [
    "\n",
    "player_match_df = pd.read_csv(\"./dataset/player_match.csv\")\n",
    "player_match_f = open('./insert/player_match.sql','w')\n",
    "player_match_f.write(\"use ipl; \\n\\n\")\n",
    "a=player_match_df.columns\n",
    "\n",
    "query = f\"INSERT INTO player_match VALUES \"\n",
    "player_match_f.write(query)\n",
    "for j in range(len(player_match_df)):\n",
    "    query = f\"(\"\n",
    "    for i in range(len(player_match_df.columns)):\n",
    "        if i==len(player_match_df.columns)-1:\n",
    "            query = query + f\"'{player_match_df[a[i]][j]}'\"         \n",
    "        else:\n",
    "            query = query + f\"'{player_match_df[a[i]][j]}',\"\n",
    "            \n",
    "    if j==len(player_match_df)-1:\n",
    "        query = query + ') ;'\n",
    "    else:\n",
    "        query = query + '),'\n",
    "    player_match_f.write(query)\n",
    "\n",
    "\n",
    "\n",
    "player_match_f.close()\n",
    "\n",
    "\n"
   ]
  },
  {
   "source": [
    "## Insert into Extra Runs"
   ],
   "cell_type": "markdown",
   "metadata": {}
  },
  {
   "cell_type": "code",
   "execution_count": 38,
   "metadata": {},
   "outputs": [],
   "source": [
    "\n",
    "extra_runs_df = pd.read_csv(\"./dataset/extra_runs.csv\")\n",
    "extra_runs_f = open('./insert/extra_runs.sql','w')\n",
    "extra_runs_f.write(\"use ipl; \\n\\n\")\n",
    "a=extra_runs_df.columns\n",
    "\n",
    "query = f\"INSERT INTO extra_runs VALUES \"\n",
    "extra_runs_f.write(query)\n",
    "for j in range(len(extra_runs_df)):\n",
    "    query = f\"(\"\n",
    "    for i in range(len(extra_runs_df.columns)):\n",
    "        if i==len(extra_runs_df.columns)-1:\n",
    "            query = query + f\"'{extra_runs_df[a[i]][j]}'\"         \n",
    "        else:\n",
    "            query = query + f\"'{extra_runs_df[a[i]][j]}',\"\n",
    "            \n",
    "    if j==len(extra_runs_df)-1:\n",
    "        query = query + ') ;'\n",
    "    else:\n",
    "        query = query + '),'\n",
    "    extra_runs_f.write(query)\n",
    "\n",
    "\n",
    "\n",
    "extra_runs_f.close()\n",
    "\n",
    "\n"
   ]
  }
 ]
}