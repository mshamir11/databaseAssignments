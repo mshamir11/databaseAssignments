{
 "metadata": {
  "language_info": {
   "codemirror_mode": {
    "name": "ipython",
    "version": 3
   },
   "file_extension": ".py",
   "mimetype": "text/x-python",
   "name": "python",
   "nbconvert_exporter": "python",
   "pygments_lexer": "ipython3",
   "version": "3.8.5-final"
  },
  "orig_nbformat": 2,
  "kernelspec": {
   "name": "python38564bitnlpprojectconda4a15517c1d7e4e03bf63fd7113c26f76",
   "display_name": "Python 3.8.5 64-bit ('nlp_project': conda)",
   "language": "python"
  }
 },
 "nbformat": 4,
 "nbformat_minor": 2,
 "cells": [
  {
   "cell_type": "code",
   "execution_count": 1,
   "metadata": {},
   "outputs": [
    {
     "output_type": "stream",
     "name": "stdout",
     "text": [
      "Hello\n"
     ]
    }
   ],
   "source": [
    "print(\"Hello\")"
   ]
  },
  {
   "cell_type": "code",
   "execution_count": null,
   "metadata": {},
   "outputs": [],
   "source": [
    "INSERT INTO Users \n",
    "VALUES(1,\"John\",\"john@gmail.com\",\"password1\",\"Mumbai\",\"Maharashtra\",\"India\",\"9947123456\",STR_TO_DATE('06-01-2021', '%d-%m-%Y'),'083000');"
   ]
  },
  {
   "cell_type": "code",
   "execution_count": 5,
   "metadata": {},
   "outputs": [],
   "source": [
    "count=1\n",
    "name = \"John\"\n",
    "date = 1\n",
    "month = 2\n",
    "year = 2021\n",
    "hh = 8"
   ]
  },
  {
   "cell_type": "code",
   "execution_count": 6,
   "metadata": {},
   "outputs": [],
   "source": []
  },
  {
   "cell_type": "code",
   "execution_count": 8,
   "metadata": {},
   "outputs": [
    {
     "output_type": "stream",
     "name": "stdout",
     "text": [
      "INSERT INTO Users VALUES(1,'John','John@gmail.com','password1','Mumbai','Maharashtra','India','9947123456',STR_TO_DATE('1-2-2021', '%d-%m-%Y'),'83000');\n"
     ]
    }
   ],
   "source": [
    "print(required)"
   ]
  },
  {
   "cell_type": "code",
   "execution_count": 5,
   "metadata": {},
   "outputs": [],
   "source": []
  },
  {
   "cell_type": "code",
   "execution_count": 2,
   "metadata": {},
   "outputs": [],
   "source": []
  },
  {
   "cell_type": "code",
   "execution_count": 11,
   "metadata": {},
   "outputs": [],
   "source": []
  },
  {
   "cell_type": "code",
   "execution_count": 13,
   "metadata": {},
   "outputs": [],
   "source": [
    "\n",
    "\n"
   ]
  },
  {
   "cell_type": "code",
   "execution_count": 7,
   "metadata": {},
   "outputs": [],
   "source": [
    "\n",
    "\n"
   ]
  },
  {
   "cell_type": "code",
   "execution_count": 19,
   "metadata": {},
   "outputs": [
    {
     "output_type": "stream",
     "name": "stdout",
     "text": [
      "29\n"
     ]
    }
   ],
   "source": [
    "print(i)"
   ]
  },
  {
   "cell_type": "code",
   "execution_count": 1,
   "metadata": {},
   "outputs": [],
   "source": []
  },
  {
   "cell_type": "code",
   "execution_count": 12,
   "metadata": {},
   "outputs": [],
   "source": [
    "f = open('mumbai.txt','w')\n",
    "f.close()"
   ]
  },
  {
   "cell_type": "code",
   "execution_count": 13,
   "metadata": {},
   "outputs": [],
   "source": [
    "import pandas as pd\n",
    "import numpy as np\n",
    "from random import randint\n",
    "\n",
    "\n",
    "names = pd.read_csv(\"names.csv\")\n",
    "unique_names =np.unique(names['name'])\n",
    "\n",
    "\n",
    "def random_with_N_digits(n):\n",
    "    range_start = 10**(n-1)\n",
    "    range_end = (10**n)-1\n",
    "    return randint(range_start, range_end)\n",
    "\n",
    "\n",
    "\n",
    "\n",
    "count=1\n",
    "year=2020\n",
    "month = 1\n",
    "hh = 1\n",
    "date=1\n",
    "\n",
    "f = open('mumbai.txt','a')\n",
    "per_city = 120\n",
    "list_of_cities = ['Ahmedabad','Gandhinagar','Mumbai','Chennai','Kochi','Hyderabad','Delhi','Kolkata','Madrid']\n",
    "list_of_states = ['Gujarat','Gujarat','Maharashtra','Tamil Nadu','Kerala','Telangana','Delhi','West Bengal','Madrid']\n",
    "list_of_countries =['India','India','India','India','India','India','India','India','Spain']\n",
    "for city,state,country in zip(list_of_cities,list_of_states,list_of_countries):\n",
    "    for i in range(per_city):\n",
    "        name = unique_names[count]\n",
    "        required = f\"INSERT INTO Users VALUES({count},'{name}','{name}@gmail.com','password{count}','{city}','{state}','{country}','{random_with_N_digits(10)}',STR_TO_DATE('{date}-{month}-{year}', '%d-%m-%Y'),'{hh}3000');\"\n",
    "        required = required + \"\\n\"\n",
    "        f.write(required)\n",
    "        date = (date+1)%28\n",
    "        date+=1\n",
    "        month = (month+1)%11\n",
    "        month+=1\n",
    "        hh = (hh+1)%24\n",
    "        count +=1\n",
    "    "
   ]
  },
  {
   "cell_type": "code",
   "execution_count": 17,
   "metadata": {},
   "outputs": [],
   "source": [
    "count=1\n",
    "name_count =5000\n",
    "year=2020\n",
    "month = 1\n",
    "hh = 1\n",
    "date=1\n",
    "f.close()\n",
    "f = open('retailer.txt','w')\n",
    "f = open('retailer.txt','a')\n",
    "per_city = 50\n",
    "list_of_cities = ['Ahmedabad','Gandhinagar','Mumbai','Chennai','Kochi','Hyderabad','Delhi','Kolkata','Madrid']\n",
    "list_of_states = ['Gujarat','Gujarat','Maharashtra','Tamil Nadu','Kerala','Telangana','Delhi','West Bengal','Madrid']\n",
    "list_of_countries =['India','India','India','India','India','India','India','India','Spain']\n",
    "for city,state,country in zip(list_of_cities,list_of_states,list_of_countries):\n",
    "    for i in range(per_city):\n",
    "        name = unique_names[name_count]\n",
    "        required = f\"INSERT INTO Retailer VALUES({count},'{name}','{name}@gmail.com','{city}','{state}','{country}');\"\n",
    "        required = required + \"\\n\"\n",
    "        f.write(required)\n",
    "        date = (date+1)%28\n",
    "        date+=1\n",
    "        month = (month+1)%11\n",
    "        month+=1\n",
    "        hh = (hh+1)%24\n",
    "        count +=1\n",
    "        name_count+=1"
   ]
  },
  {
   "cell_type": "code",
   "execution_count": 11,
   "metadata": {},
   "outputs": [],
   "source": [
    "Electronics=[(\"Apple Iphone 12\",\"47899\",\"Mobile Phone\"),(\"Xiaomi Redmi 8\",\"7599\",\"Mobile Phone\"),(\"Xiaomi Redmi 9\",\"8399\",\"Mobile Phone\"),(\"Xiaomi Redmi Note 10 Pro\",\"15529\",\"Mobile Phone\"),(\"Vivo V28\",\"12846\",\"Mobile Phone\"),(\"Oppo F64\",\"11564\",\"Mobile Phone\"),(\"Lenovo Zenphone\",\"7199\",\"Mobile Phone\"),(\"HTC Desire\",\"6599\",\"Mobile Phone\"),(\"Huawei Air\",\"15499\",\"Mobile Phone\"),(\"Samsung Galaxy Note 5\",\"22000\",\"Mobile Phone\"),(\"Apple Iphone SE\",\"42999\",\"Mobile Phone\"),(\"Apple Macbook Air\",\"55600\",\"Laptop\"),(\"Lenovo Thinkpad HV324\",\"31500\",\"Laptop\"),(\"Dell Vostro H3424\",\"38400\",\"Laptop\"),(\"HP Pavillion\",\"35600\",\"Laptop\"),(\"Acer Aspire\",\"33300\",\"Laptop\"),(\"Apple Macbook Pro\",\"122000\",\"Laptop\"),(\"HP Omen V2341\",\"75660\",\"Laptop\"),(\"Lenovo Ideapad S1234\",\"59990\",\"Laptop\"),(\"Mi Notebook Horizon\",\"54999\",\"Laptop\"),(\"Dell Inspiron 3452\",\"34999\",\"Laptop\"),(\"Asus Vivobook Ultra K14\",\"42500\",\"Laptop\"),(\"Acer One 14 Z2-485\",\"25990\",\"Laptop\"),(\"boat bassheads\",\"749\",\"Ear Phones\"),(\"boat rockerz 450 Bluetooth\",\"1299\",\"Ear Phones\"),(\"JBL T460BT\",\"2799\",\"Ear Phones\"),(\"Zebronics Zeb Thunder\",\"795\",\"Ear Phones\"),(\"JBL C100SI\",\"699\",\"Ear Phones\"),(\"Ptron Boom\",\"399\",\"Ear Phones\"),(\"Sony MDR-Zx\",\"649\",\"Ear Phones\"),(\"JBL C115TWS\", \"4748\",\"Ear Phones\"),(\"Boult Audio Bass heads\", \"599\",\"Ear Phones\"),(\"Cosmic Byte Star Dust\",\"799\",\"Ear Phones\"),(\"pTron Tangent Beat\",\"799\",\"Ear Phones\")]"
   ]
  },
  {
   "cell_type": "code",
   "execution_count": 53,
   "metadata": {},
   "outputs": [],
   "source": [
    "f= open('insert_electronics_product.sql','w')\n",
    "f.close()\n",
    "f = open('insert_electronics_product.sql','a')\n",
    "f.write(\"use ecommerce;\\n\")\n",
    "\n",
    "\n",
    "r= open('insert_electronics_desc.sql','w')\n",
    "r.close()\n",
    "r = open('insert_electronics_desc.sql','a')\n",
    "r.write(\"use ecommerce;\\n\")\n",
    "\n",
    "pid=1\n",
    "category_id = 2\n",
    "date =12\n",
    "month =4\n",
    "year = 2016\n",
    "quantity_stock = 2\n",
    "retailer_id=1\n",
    "Electronics=[(\"Apple Iphone 12\",\"47899\",\"Mobile Phone\"),(\"Xiaomi Redmi 8\",\"7599\",\"Mobile Phone\"),(\"Xiaomi Redmi 9\",\"8399\",\"Mobile Phone\"),(\"Xiaomi Redmi Note 10 Pro\",\"15529\",\"Mobile Phone\"),(\"Vivo V28\",\"12846\",\"Mobile Phone\"),(\"Oppo F64\",\"11564\",\"Mobile Phone\"),(\"Lenovo Zenphone\",\"7199\",\"Mobile Phone\"),(\"HTC Desire\",\"6599\",\"Mobile Phone\"),(\"Huawei Air\",\"15499\",\"Mobile Phone\"),(\"Samsung Galaxy Note 5\",\"22000\",\"Mobile Phone\"),(\"Apple Iphone SE\",\"42999\",\"Mobile Phone\"),(\"Apple Macbook Air\",\"55600\",\"Laptop\"),(\"Lenovo Thinkpad HV324\",\"31500\",\"Laptop\"),(\"Dell Vostro H3424\",\"38400\",\"Laptop\"),(\"HP Pavillion\",\"35600\",\"Laptop\"),(\"Acer Aspire\",\"33300\",\"Laptop\"),(\"Apple Macbook Pro\",\"122000\",\"Laptop\"),(\"HP Omen V2341\",\"75660\",\"Laptop\"),(\"Lenovo Ideapad S1234\",\"59990\",\"Laptop\"),(\"Mi Notebook Horizon\",\"54999\",\"Laptop\"),(\"Dell Inspiron 3452\",\"34999\",\"Laptop\"),(\"Asus Vivobook Ultra K14\",\"42500\",\"Laptop\"),(\"Acer One 14 Z2-485\",\"25990\",\"Laptop\"),(\"boat bassheads\",\"749\",\"Ear Phones\"),(\"boat rockerz 450 Bluetooth\",\"1299\",\"Ear Phones\"),(\"JBL T460BT\",\"2799\",\"Ear Phones\"),(\"Zebronics Zeb Thunder\",\"795\",\"Ear Phones\"),(\"JBL C100SI\",\"699\",\"Ear Phones\"),(\"Ptron Boom\",\"399\",\"Ear Phones\"),(\"Sony MDR-Zx\",\"649\",\"Ear Phones\"),(\"JBL C115TWS\", \"4748\",\"Ear Phones\"),(\"Boult Audio Bass heads\", \"599\",\"Ear Phones\"),(\"Cosmic Byte Star Dust\",\"799\",\"Ear Phones\"),(\"pTron Tangent Beat\",\"799\",\"Ear Phones\")]\n",
    "for product in Electronics:\n",
    "    product_name,price,sub_category =product[0],product[1],product[2]\n",
    "    required = f\"INSERT INTO Products VALUES({pid},'{product_name}',{category_id},STR_TO_DATE('{date}-{month}-{year}', '%d-%m-%Y'),NULL,{float(price)},{retailer_id},{quantity_stock});\"\n",
    "\n",
    "    electronic_details = f\"INSERT INTO Electronics VALUES({pid},'{product_name}','{product_name} is a must to improve the productivity','{sub_category}');\"\n",
    "\n",
    "    pid+=1\n",
    "    date = (date%28)\n",
    "    date = date+1\n",
    "    month = month%11\n",
    "    month = month +1\n",
    "    year+=1\n",
    "    if year%2020 ==0:\n",
    "        year = 2016\n",
    "    quantity_stock+=1\n",
    "    if quantity_stock%6==0:\n",
    "        quantity_stock=1\n",
    "    retailer_id+=1\n",
    "    if retailer_id%25==0:\n",
    "        retailer_id=1\n",
    "    required = required +'\\n'\n",
    "    electronic_details = electronic_details + '\\n'\n",
    "    f.write(required)\n",
    "    r.write(electronic_details)"
   ]
  },
  {
   "cell_type": "code",
   "execution_count": 34,
   "metadata": {},
   "outputs": [
    {
     "output_type": "stream",
     "name": "stdout",
     "text": [
      "35\n"
     ]
    }
   ],
   "source": [
    "print(pid)"
   ]
  },
  {
   "cell_type": "code",
   "execution_count": null,
   "metadata": {},
   "outputs": [],
   "source": []
  },
  {
   "cell_type": "code",
   "execution_count": 4,
   "metadata": {},
   "outputs": [],
   "source": [
    "\n",
    "a = open('insert_novel_product.sql','w')\n",
    "a.write(\"use ecommerce;\\n\")\n",
    "\n",
    "\n",
    "w= open('insert_novel_desc.sql','w')\n",
    "w.write(\"use ecommerce;\\n\")\n",
    "\n",
    "curr_pid = 35\n",
    "pid = curr_pid\n",
    "category_id=3\n",
    "retailer_id=40\n",
    "Novels=[(\"The Davinci Code\",\"166\",\"Dan Brown\",\"06-07-2010\"),(\"Angels and Demons\",\"232\",\"Dan Brown\",\"14-05-2009\"),(\"Deception Point\",\"189\",\"Dan Brown\",\"14-05-2009\"),(\"The Lost Symbol\",\"216\",\"Dan Brown\",\"15-09-2009\"),(\"Sacred Games\",\"215\",\"Vikram Chandra\",\"03-03-2011\"),(\"Harry Potter and the Philosphers stone\",\"240\",\"JK Rowling\",\"01-09-2014\"),(\"Harry Potter and the Chamber of Secrets\",\"299\",\"JK Rowling\",\"03-09-2014\"),(\"The Fountainhead\",\"230\",\"Ayn Rand\",\"01-09-1996\"),(\"One Indian Girl\",\"118\",\"Chetan Bhagat\",\"01-10-2016\"),(\"The Adventure of Sherlock Holmes\",\"112\",\"Sir Arthur Conan Doyle\",\"01-09-2016\")]\n",
    "\n",
    "for product in Novels:\n",
    "    product_name,price,author,pub_date =product[0],product[1],product[2],product[3]\n",
    "    required = f\"INSERT INTO Products VALUES({pid},'{product_name}',{category_id},STR_TO_DATE('{pub_date}', '%d-%m-%Y'),NULL,{float(price)},{retailer_id},{quantity_stock});\"\n",
    "\n",
    "    novel_details = f\"INSERT INTO Novels VALUES({pid},'{product_name}','{author}',STR_TO_DATE('{pub_date}', '%d-%m-%Y'),'{product_name} by {author} is a good one to read');\"\n",
    "    pid+=1\n",
    "    \n",
    "    quantity_stock+=1\n",
    "    if quantity_stock%6==0:\n",
    "        quantity_stock=1\n",
    "    retailer_id+=1\n",
    "    if retailer_id%5==0:\n",
    "        retailer_id=40\n",
    "    required = required +'\\n'\n",
    "    novel_details = novel_details+'\\n'\n",
    "    a.write(required)\n",
    "    w.write(novel_details)\n",
    "\n",
    "a.close()\n",
    "w.close()\n"
   ]
  },
  {
   "cell_type": "code",
   "execution_count": null,
   "metadata": {},
   "outputs": [],
   "source": []
  },
  {
   "cell_type": "code",
   "execution_count": 9,
   "metadata": {},
   "outputs": [],
   "source": [
    "cloth_pid = 45\n",
    "category_id =1\n",
    "pid = cloth_pid\n",
    "quantity_stock=1\n",
    "c= open('insert_clothes_product.sql','w')\n",
    "c.write(\"use ecommerce;\\n\")\n",
    "\n",
    "q = open('insert_cloth_desc.sql','w')\n",
    "q.write(\"use ecommerce;\\n\")\n",
    "\n",
    "\n",
    "clothes=[(\"Arrow: Mens Regular fit solid shirt\",\"4199\",\"01-10-2020\",\"Arrow\"),(\"Louis Philippe: Mens Regular fit formal shirt\",\"4269\",\"04-11-2020\",\"Louis Philippe\"),(\"Tommy Hilfiger: Mens Regular fit formal shirt\",\"4499\",\"10-11-2020\",\"Tommy Hilfiger\"),(\"Mens Bomber Jacket\",\"1011\",\"10-12-2020\",\"Fort Collins\"),(\"Mens Cotton Turtle Neck Sweater\",\"782\",\"11-09-2018\",\"Denimholic\"),(\"Round Neck Sweater\",\"639\",\"12-07-2018\",\"Alan Jones\"),(\"Blended Sweater\",\"899\",\"13-05-2017\",\"Aarbee\"),(\"Relaxed Jeans\",\"628\",\"20-07-2019\",\"Ben Martin\"),(\"Slim Fit Denim Jeans\",\"529\",\"12-12-2020\",\"Urbano Fashion\"),(\"Cut and Sew Denim Jeans\",\"856\",\"13-12-2020\",\"Campus Sutra\")]\n",
    "\n",
    "retailer_id=45\n",
    "for product in clothes:\n",
    "    product_name,price,pub_date,brand =product[0],product[1],product[2],product[3]\n",
    "    required = f\"INSERT INTO Products VALUES({pid},'{product_name}',{category_id},STR_TO_DATE('{pub_date}', '%d-%m-%Y'),NULL,{float(price)},{retailer_id},{quantity_stock});\"\n",
    "    \n",
    "    \n",
    "    Cloth_details = f\"INSERT INTO Clothes VALUES({pid},'{product_name}',STR_TO_DATE('{pub_date}', '%d-%m-%Y'),'{product_name} is very cool to wear.','{brand}');\"\n",
    "\n",
    "    pid+=1\n",
    "    quantity_stock+=1\n",
    "    if quantity_stock%6==0:\n",
    "        quantity_stock=1\n",
    "    retailer_id+=1\n",
    "    if retailer_id%5==0:\n",
    "        retailer_id=45\n",
    "    Cloth_details = Cloth_details+'\\n'\n",
    "    required = required +'\\n'\n",
    "    c.write(required)\n",
    "    q.write(Cloth_details)\n",
    "q.close()\n",
    "c.close()"
   ]
  },
  {
   "source": [
    "## Delivery Table"
   ],
   "cell_type": "markdown",
   "metadata": {}
  },
  {
   "cell_type": "code",
   "execution_count": 3,
   "metadata": {},
   "outputs": [],
   "source": [
    "from random import randint\n",
    "\n",
    "\n",
    "\n",
    "\n",
    "\n",
    "def random_with_N_digits(n):\n",
    "    range_start = 10**(n-1)\n",
    "    range_end = (10**n)-1\n",
    "    return randint(range_start, range_end)\n",
    "\n",
    "\n",
    "cloth_pid = 46\n",
    "category_id =1\n",
    "pid = cloth_pid\n",
    "quantity_stock=1\n",
    "d= open('insert_delivery_address.sql','w')\n",
    "d.write(\"use ecommerce;\\n\")\n",
    "\n",
    "e=open('insert_into_orders.sql','w')\n",
    "e.write(\"use ecommerce;\\n\")\n",
    "\n",
    "list_of_cities = ['Ahmedabad','Gandhinagar','Mumbai','Chennai','Kochi','Hyderabad','Delhi','Kolkata','Madrid']\n",
    "list_of_states = ['Gujarat','Gujarat','Maharashtra','Tamil Nadu','Kerala','Telangana','Delhi','West Bengal','Madrid']\n",
    "list_of_countries =['India','India','India','India','India','India','India','India','Spain']\n",
    "\n",
    "\n",
    "year = 2020\n",
    "month =1\n",
    "date = 1\n",
    "index =1\n",
    "hh=5\n",
    "for i in range(1,11):\n",
    "    for city,state,country in zip(list_of_cities,list_of_states,list_of_countries):\n",
    "\n",
    "        \n",
    "       \n",
    "        required = f\"INSERT INTO Delivery_Address(user_ID,city,state,country,Phone,Pin) VALUES({i},'{city}','{state}','{country}','{random_with_N_digits(10)}','{random_with_N_digits(6)}');\"\n",
    "\n",
    "        required_orders = f\"INSERT INTO Orders(product_ID,user_ID,order_Date,order_Time,address_ID,quantity,rating,review) VALUES({randint(1,55)},{i},STR_TO_DATE('{date}-{month}-{year}', '%d-%m-%Y'),'{hh}3000',{index},{randint(1,10)},{randint(1,5)},'I really enjoyed it and it was an awesome experience');\"\n",
    "       \n",
    "        required = required +'\\n'\n",
    "        required_orders = required_orders +'\\n'\n",
    "        date = (date+1)%28\n",
    "        date+=1\n",
    "        month = (month+1)%11\n",
    "        month+=1\n",
    "        hh = (hh+1)%24\n",
    "        d.write(required)\n",
    "        e.write(required_orders)\n",
    "        index+=1\n",
    "d.close()\n",
    "e.close()"
   ]
  },
  {
   "source": [
    "## Cart Table"
   ],
   "cell_type": "markdown",
   "metadata": {}
  },
  {
   "cell_type": "code",
   "execution_count": null,
   "metadata": {},
   "outputs": [],
   "source": []
  },
  {
   "source": [
    "## Order Table"
   ],
   "cell_type": "markdown",
   "metadata": {}
  },
  {
   "cell_type": "code",
   "execution_count": 8,
   "metadata": {},
   "outputs": [],
   "source": [
    "\n",
    "from random import randint\n",
    "\n",
    "g=open('insert_cart.sql','w')\n",
    "g.write(\"use ecommerce;\\n\")\n",
    "\n",
    "\n",
    "for j in range(1,10):\n",
    "    for i in range(1,1000):\n",
    "        required = f\"INSERT INTO Cart(user_ID,product_ID,quantity) VALUES({i},{randint(1,54)},{randint(3,12)});\"\n",
    "        required = required +'\\n'\n",
    "        g.write(required)\n",
    "\n",
    "        \n",
    "g.close()"
   ]
  },
  {
   "source": [
    "## History Table"
   ],
   "cell_type": "markdown",
   "metadata": {}
  },
  {
   "cell_type": "code",
   "execution_count": 59,
   "metadata": {},
   "outputs": [],
   "source": [
    "h=open('insert_History.sql','w')\n",
    "h.close()"
   ]
  },
  {
   "cell_type": "code",
   "execution_count": 6,
   "metadata": {},
   "outputs": [],
   "source": [
    "from random import randint\n",
    "\n",
    "\n",
    "\n",
    "h=open('insert_history.sql','w')\n",
    "h.write(\"use ecommerce;\\n\")\n",
    "\n",
    "for i in range(1,1000):\n",
    "    required = f\"INSERT INTO History(user_ID,product_ID,No_of_visits) VALUES({i},{randint(1,54)},{randint(1,20)});\"\n",
    "    required = required +'\\n'\n",
    "    h.write(required)\n",
    "h.close()"
   ]
  },
  {
   "source": [
    "## Electronics\n"
   ],
   "cell_type": "markdown",
   "metadata": {}
  },
  {
   "cell_type": "code",
   "execution_count": null,
   "metadata": {},
   "outputs": [],
   "source": []
  },
  {
   "source": [
    "## Novel"
   ],
   "cell_type": "markdown",
   "metadata": {}
  },
  {
   "cell_type": "code",
   "execution_count": null,
   "metadata": {},
   "outputs": [],
   "source": []
  },
  {
   "source": [
    "## Clothes"
   ],
   "cell_type": "markdown",
   "metadata": {}
  },
  {
   "cell_type": "code",
   "execution_count": null,
   "metadata": {},
   "outputs": [],
   "source": []
  }
 ]
}