{
 "metadata": {
  "language_info": {
   "codemirror_mode": {
    "name": "ipython",
    "version": 3
   },
   "file_extension": ".py",
   "mimetype": "text/x-python",
   "name": "python",
   "nbconvert_exporter": "python",
   "pygments_lexer": "ipython3",
   "version": "3.8.5-final"
  },
  "orig_nbformat": 2,
  "kernelspec": {
   "name": "python3",
   "display_name": "Python 3",
   "language": "python"
  }
 },
 "nbformat": 4,
 "nbformat_minor": 2,
 "cells": [
  {
   "cell_type": "code",
   "execution_count": 110,
   "metadata": {},
   "outputs": [],
   "source": [
    "import mysql.connector\n",
    "\n",
    "mydb = mysql.connector.connect(\n",
    "    host=\"localhost\",\n",
    "    user=\"temp\",\n",
    "    passwd=\"password\",\n",
    "    database =\"ecommerce\"\n",
    "    \n",
    ")\n",
    "\n",
    "mycursor = mydb.cursor()"
   ]
  },
  {
   "cell_type": "code",
   "execution_count": 12,
   "metadata": {},
   "outputs": [],
   "source": [
    "class fill_tables:\n",
    "\n",
    "  def __init__(self,mydb):\n",
    "    self.cursor=mydb.cursor()\n",
    "    self.mydb = mydb\n",
    "\n",
    "  def insert_into_user_table(self,user_id,user_name,email,pasw,city,state,country,phone,doj,toj):\n",
    "\n",
    "    query= \"\"\"\n",
    "    INSERT INTO Users VALUES(%s,%s,\n",
    "    %s,%s,%s,\n",
    "    %s,%s,%s, %s,%s);\n",
    "    \"\"\"\n",
    "\n",
    "    self.cursor.execute(query,(user_id,user_name,email,pasw,city,state,country,phone,doj,toj))\n",
    "    self.mydb.commit()\n",
    "\n",
    "\n",
    "  def insert_into_retailer_table(self,user_name,email,city,state,country):\n",
    "\n",
    "    query= \"\"\"\n",
    "      INSERT INTO Retailer VALUES(%s,%s,%s,%s,%s);\n",
    "\n",
    "      \"\"\"\n",
    "\n",
    "    self.cursor.execute(query,(user_name,email,city,state,country))\n",
    "    self.mydb.commit()\n",
    "\n",
    "  def insert_into_delivery_address(self,user_ID,city,country,india,phone,pin):\n",
    "\n",
    "    query= \"\"\"\n",
    "    INSERT INTO Delivery_Address(user_ID,city,state,country,Phone,Pin) VALUES(%s,%s,%s,%s,%s,%s);\n",
    "    \"\"\"\n",
    "\n",
    "    self.cursor.execute(query,(user_ID,city,country,india,phone,pin))\n",
    "    self.mydb.commit()\n",
    "\n",
    "  def insert_into_order_table(self,product_ID,user_ID,order_Date,order_time,address_ID,quantity,rating,review):\n",
    "\n",
    "    query= \"\"\"\n",
    "    INSERT INTO Orders(product_ID,user_ID,order_Date,order_Time,address_ID,quantity,rating,review) VALUES(%s,%s,%s,%s,%s,%s,%s,%s);\n",
    "\n",
    "    \"\"\"\n",
    "\n",
    "    self.cursor.execute(query,(product_ID,user_ID,order_Date,order_time,address_ID,quantity,rating,review))\n",
    "    self.mydb.commit()\n",
    "\n",
    "  def insert_into_history_table(self,product_ID,user_ID,No_of_visites):\n",
    "\n",
    "    query=\"\"\"\n",
    "    INSERT INTO History(user_ID,product_ID,No_of_visits) \n",
    "    VALUES(%s,%s,%s);\n",
    "    \"\"\"\n",
    "\n",
    "    self.cursor.execute(query,(product_ID,user_ID,No_of_visites))\n",
    "    self.mydb.commit()\n",
    "\n",
    "  \n",
    "  def insert_into_cart_table(self,user_ID,product_ID,quantity):\n",
    "      query = \"\"\"\n",
    "       INSERT INTO Cart(user_ID,product_ID,quantity) \n",
    "       VALUES(%s,%s,%s);\n",
    "      \"\"\"\n",
    "\n",
    "      self.cursor.execute(query,(user_ID,product_ID,quantity))\n",
    "      self.mydb.commit()\n",
    "\n",
    "\n",
    "\n",
    "\n",
    "  def insert_into_product_details(self,tablename,product_name,category_id,date_added,rating,price,retailer_id,quantity_stock):\n",
    "\n",
    "      \n",
    "      query=\"\"\"\n",
    "      INSERT INTO %s VALUES(%s,%s,%s,%s,%s,%s,%s);\n",
    "      \"\"\"\n",
    "\n",
    "      self.cursor.execute(query,(tablename,product_name,category_id,date_added,rating,price,retailer_id,quantity_stock))\n",
    "      self.mydb.commit()\n",
    "\n",
    "\n"
   ]
  },
  {
   "cell_type": "code",
   "execution_count": 14,
   "metadata": {},
   "outputs": [],
   "source": [
    "insert = fill_tables(mydb)\n",
    "insert.insert_into_user_table('10000','shamir','shamir@gmail.com','passw','Ahmedabad','Gujarat','India','1234567890','2021-02-23','2330')\n"
   ]
  },
  {
   "cell_type": "code",
   "execution_count": 17,
   "metadata": {},
   "outputs": [
    {
     "output_type": "stream",
     "name": "stdout",
     "text": [
      "(10000, 'shamir', 'shamir@gmail.com', 'passw', 'Ahmedabad', 'Gujarat', 'India', '1234567890', datetime.date(2021, 2, 23), datetime.timedelta(seconds=1410))\n"
     ]
    }
   ],
   "source": [
    "query = \"select * from Users where user_ID=10000\"\n",
    "mycursor.execute(query)\n",
    "\n",
    "for line in mycursor:\n",
    "    print(line)"
   ]
  },
  {
   "source": [
    "### 2. Delete a user from the database. After deleting the user update name of the user as ‘Anonymous’ in all the ratings and reviews written by that user."
   ],
   "cell_type": "markdown",
   "metadata": {}
  },
  {
   "cell_type": "code",
   "execution_count": 44,
   "metadata": {},
   "outputs": [],
   "source": [
    "\n",
    "\n",
    "def delete_from_user(mydb,user_ID):\n",
    "\n",
    "    query0=\"\"\"\n",
    "    SET foreign_key_checks = 0;\n",
    "    \"\"\"\n",
    "    query1=\"\"\"\n",
    "    update Orders set user_ID=88888 where user_ID = %s;\"\"\"\n",
    "\n",
    "    query2 = \"\"\"\n",
    "    delete from Users where user_ID= %s;\"\"\"\n",
    "\n",
    "    query3=\"\"\"\n",
    "    SET foreign_key_checks = 1;\n",
    "    \"\"\"\n",
    "    mycursor= mydb.cursor()\n",
    "    mycursor.execute(query0)\n",
    "    mycursor.execute(query1,(user_ID,))\n",
    "    mycursor.execute(query2,(user_ID,))\n",
    "    mycursor.execute(query3)\n",
    "    mydb.commit()"
   ]
  },
  {
   "cell_type": "code",
   "execution_count": 45,
   "metadata": {},
   "outputs": [],
   "source": [
    "delete_from_user(mydb,'4')"
   ]
  },
  {
   "source": [
    "### 3. Increment the price of all products priced below Rs. 5000 by 10%, which were viewed by more than 10 users in the last 3 months. \n"
   ],
   "cell_type": "markdown",
   "metadata": {}
  },
  {
   "cell_type": "code",
   "execution_count": 51,
   "metadata": {},
   "outputs": [],
   "source": [
    "\n",
    "def increase_price(mydb,price_limit,interval,view_limit,percentage_increase):\n",
    "\n",
    "    query=\"\"\"\n",
    "\n",
    "        update Products\n",
    "        inner join \n",
    "        (select B.product_ID,B.price,count(B.date_visited) as Views\n",
    "        from\n",
    "        (select A.product_ID,A.date_visited,A.price\n",
    "        from\n",
    "        (select Products.product_ID, Products.price,\n",
    "        History.user_ID,History.date_visited from\n",
    "        History inner join Products\n",
    "        on Products.product_ID =History.product_ID\n",
    "        and Products.price<%s) as A\n",
    "        where A.date_visited> now()- INTERVAL %s month) as B\n",
    "        group by B.product_ID) as C\n",
    "        on Products.product_ID=C.product_ID\n",
    "        and C.Views>%s\n",
    "        set Products.price=%s*Products.price;\n",
    "        \"\"\"\n",
    "    test_query=\"\"\"\n",
    "    select C.product_ID,C.price,C.Views from\n",
    "    Products inner join\n",
    "    (select B.product_ID,B.price,count(B.date_visited) as Views\n",
    "        from\n",
    "        (select A.product_ID,A.date_visited,A.price\n",
    "        from\n",
    "        (select Products.product_ID, Products.price,\n",
    "        History.user_ID,History.date_visited from\n",
    "        History inner join Products\n",
    "        on Products.product_ID =History.product_ID\n",
    "        and Products.price<%s) as A\n",
    "        where A.date_visited> now()- INTERVAL %s month) as B\n",
    "        group by B.product_ID) as C\n",
    "        on Products.product_ID=C.product_ID\n",
    "        and C.Views>%s\n",
    "    \"\"\"\n",
    "    percentage_increase = 1+ percentage_increase/100\n",
    "    mycursor=mydb.cursor()\n",
    "    mycursor.execute(test_query,(price_limit,interval,view_limit))\n",
    "\n",
    "    print(\"Price Before\")\n",
    "    print(\"=======================\")\n",
    "    print(\"Product_ID | Price | Views\")\n",
    "    \n",
    "\n",
    "    print(\"--------------------------\")\n",
    "    \n",
    "\n",
    "    for line in mycursor:\n",
    "        print(line)\n",
    "    mycursor.execute(query,(price_limit,interval,view_limit,percentage_increase))\n",
    "    mycursor.execute(test_query,(price_limit,interval,view_limit))\n",
    "    \n",
    "    print(\"\\n\\nPrice After\")\n",
    "    print(\"=======================\")\n",
    "\n",
    "    print(\"Product_ID | Price | Views\")\n",
    "\n",
    "    print(\"--------------------------\")\n",
    "    for line in mycursor:\n",
    "        print(line)\n",
    "    mydb.commit()\n",
    "\n",
    "\n"
   ]
  },
  {
   "cell_type": "code",
   "execution_count": 52,
   "metadata": {},
   "outputs": [
    {
     "output_type": "stream",
     "name": "stdout",
     "text": [
      "Price Before\n=======================\nProduct_ID | Price | Views\n--------------------------\n(27, 1549.23, 20)\n(52, 1223.79, 20)\n\n\nPrice After\n=======================\nProduct_ID | Price | Views\n--------------------------\n(27, 1704.15, 20)\n(52, 1346.17, 20)\n"
     ]
    }
   ],
   "source": [
    "increase_price(mydb,5000,3,10,10)\n"
   ]
  },
  {
   "source": [
    "### 5. Find phone numbers and email IDs of all users who reside in the city ‘Madrid’ and have made a total purchase greater than or equal to Rs. 10000 in the past."
   ],
   "cell_type": "markdown",
   "metadata": {}
  },
  {
   "cell_type": "code",
   "execution_count": 70,
   "metadata": {},
   "outputs": [],
   "source": [
    "def find_data(mydb,city,total_purchase):\n",
    "\n",
    "    query=\"\"\"\n",
    "    select C.user_name,C.email,C.phone from \n",
    "    (select B.user_name,B.email,B.phone,\n",
    "    SUM(B.price) total_purchase from\n",
    "    (select A.*,Products.price from\n",
    "    (select Users.user_ID,Users.user_name,Users.email,\n",
    "    Users.phone,Orders.product_ID \n",
    "    from Users inner join Orders\n",
    "    on Users.user_ID = Orders.user_ID\n",
    "    and Users.city=%s) as A\n",
    "    inner join Products\n",
    "    on A.product_ID = Products.product_ID) as B\n",
    "    group by B.user_name,B.email,B.phone) as C\n",
    "    where C.total_purchase>%s;\n",
    "    \"\"\"\n",
    "    dbcursor=mydb.cursor()\n",
    "    dbcursor.execute(query,(city,total_purchase))\n",
    "    \n",
    "    for line in dbcursor:\n",
    "      print(line)"
   ]
  },
  {
   "cell_type": "code",
   "execution_count": 74,
   "metadata": {},
   "outputs": [
    {
     "output_type": "stream",
     "name": "stdout",
     "text": [
      "('Carl', 'Carl@gmail.com', '1666898865')\n('Carla', 'Carla@gmail.com', '2658844727')\n"
     ]
    }
   ],
   "source": [
    "find_data(mydb,'Madrid',10000)"
   ]
  },
  {
   "source": [
    "### 6. Find all products in the database whose name contains the string ‘mi’. E.g. Xiaomi, etc, and all users who bought them at least once."
   ],
   "cell_type": "markdown",
   "metadata": {}
  },
  {
   "cell_type": "code",
   "execution_count": 63,
   "metadata": {},
   "outputs": [],
   "source": [
    "def find_data(mydb,word):\n",
    "    query =\"\"\"\n",
    "    select Name,product_ID \n",
    "    from Electronics \n",
    "    where \n",
    "    Name LIKE %s union all \n",
    "    select Name,product_ID \n",
    "    from Novels \n",
    "    where Name LIKE %s union all \n",
    "    select Name,product_ID \n",
    "    from Clothes where Name LIKE %s ;\n",
    "    \"\"\"\n",
    "\n",
    "    word = \"%\"+word+\"%\"\n",
    "    dbcursor =mydb.cursor()\n",
    "    dbcursor.execute(query,(word,word,word))\n",
    "    \n",
    "    for line in dbcursor:\n",
    "        print (line)\n"
   ]
  },
  {
   "cell_type": "code",
   "execution_count": 64,
   "metadata": {},
   "outputs": [
    {
     "output_type": "stream",
     "name": "stdout",
     "text": [
      "('Xiaomi Redmi 8', 2)\n('Xiaomi Redmi 9', 3)\n('Xiaomi Redmi Note 10 Pro', 4)\n('Mi Notebook Horizon', 20)\n('Cosmic Byte Star Dust', 33)\n"
     ]
    }
   ],
   "source": [
    "find_data(mydb,'mi')"
   ]
  },
  {
   "source": [
    "### 13. Sort all laptops according to the price in increasing order. "
   ],
   "cell_type": "markdown",
   "metadata": {}
  },
  {
   "cell_type": "code",
   "execution_count": 97,
   "metadata": {},
   "outputs": [],
   "source": [
    "  def sort_electronics(mydb,sub_category):\n",
    "    \n",
    "    query = \"\"\"\n",
    "    select Products.product_Name,Products.price \n",
    "    from Products,Electronics\n",
    "    where (Products.product_ID = Electronics.product_ID \n",
    "    and Electronics.sub_category=%s) \n",
    "    ORDER BY price DESC;\n",
    "\n",
    "    \"\"\"\n",
    "    dbcursor=mydb.cursor()\n",
    "    dbcursor.execute(query,(sub_category,))\n",
    "    for line in dbcursor:\n",
    "        print(line)"
   ]
  },
  {
   "cell_type": "code",
   "execution_count": 98,
   "metadata": {},
   "outputs": [
    {
     "output_type": "stream",
     "name": "stdout",
     "text": [
      "('Apple Macbook Pro', 122000.0)\n('HP Omen V2341', 75660.0)\n('Lenovo Ideapad S1234', 59990.0)\n('Apple Macbook Air', 55600.0)\n('Mi Notebook Horizon', 54999.0)\n('Asus Vivobook Ultra K14', 42500.0)\n('Dell Vostro H3424', 38400.0)\n('HP Pavillion', 35600.0)\n('Dell Inspiron 3452', 34999.0)\n('Acer Aspire', 33300.0)\n('Lenovo Thinkpad HV324', 31500.0)\n('Acer One 14 Z2-485', 25990.0)\n"
     ]
    }
   ],
   "source": [
    "sort_electronics(mydb,'Laptop')"
   ]
  },
  {
   "source": [
    "### 16. Print the UserId, mobile number, and Email Id of all users who have saved a product in the cart, whose quantity is less than 5. "
   ],
   "cell_type": "markdown",
   "metadata": {}
  },
  {
   "cell_type": "code",
   "execution_count": 105,
   "metadata": {},
   "outputs": [],
   "source": [
    " def list_product_cart(mydb,quantity):\n",
    "    \n",
    "    query = \"\"\"\n",
    "    select Cart.user_ID,Users.phone,\n",
    "    Users.email\n",
    "    from Cart,Users where\n",
    "    Cart.quantity<%s\n",
    "    and Users.user_ID=Cart.user_ID;\n",
    "\n",
    "    \"\"\"\n",
    "    dbcursor=mydb.cursor()\n",
    "    dbcursor.execute(query,(quantity,))\n",
    "    for line in dbcursor:\n",
    "        print(line)"
   ]
  },
  {
   "cell_type": "code",
   "execution_count": 106,
   "metadata": {
    "tags": [
     "outputPrepend"
    ]
   },
   "outputs": [
    {
     "output_type": "stream",
     "name": "stdout",
     "text": [
      "gmail.com')\n(592, '6910151867', 'Austen@gmail.com')\n(593, '3749531459', 'Austin@gmail.com')\n(594, '2062433655', 'Auston@gmail.com')\n(598, '3399964133', 'Authur@gmail.com')\n(599, '4266629877', 'Autry@gmail.com')\n(601, '1886777907', 'Ava@gmail.com')\n(608, '8903986929', 'Avon@gmail.com')\n(609, '2307117687', 'Axel@gmail.com')\n(611, '5481161708', 'Ayana@gmail.com')\n(619, '4607310157', 'Azalee@gmail.com')\n(620, '9761065963', 'Azaria@gmail.com')\n(621, '7608601451', 'Azul@gmail.com')\n(624, '8487141279', 'Babette@gmail.com')\n(636, '8202851270', 'Barbara@gmail.com')\n(637, '4816307359', 'Barbie@gmail.com')\n(639, '4901512062', 'Barnard@gmail.com')\n(645, '9759918761', 'Barrie@gmail.com')\n(648, '8174368216', 'Bart@gmail.com')\n(649, '9047754742', 'Bartholomew@gmail.com')\n(660, '7070816871', 'Beatrice@gmail.com')\n(664, '5098426291', 'Beaulah@gmail.com')\n(674, '6818347605', 'Belen@gmail.com')\n(686, '3303256850', 'Benita@gmail.com')\n(687, '3161304916', 'Benito@gmail.com')\n(689, '3304611608', 'Benjamen@gmail.com')\n(693, '3457819680', 'Benjiman@gmail.com')\n(696, '1167066223', 'Bennie@gmail.com')\n(698, '1905613076', 'Benson@gmail.com')\n(704, '5924483304', 'Berlin@gmail.com')\n(707, '7690535189', 'Bernard@gmail.com')\n(712, '8677119847', 'Bernhard@gmail.com')\n(720, '5205404593', 'Bertha@gmail.com')\n(725, '4895794867', 'Bertrand@gmail.com')\n(727, '3150642804', 'Bess@gmail.com')\n(728, '8591248587', 'Besse@gmail.com')\n(734, '9673201988', 'Bethel@gmail.com')\n(737, '7696995768', 'Betsy@gmail.com')\n(741, '6918138741', 'Betty@gmail.com')\n(756, '7895576249', 'Billie@gmail.com')\n(762, '8179534611', 'Birdie@gmail.com')\n(763, '4220209623', 'Birt@gmail.com')\n(764, '7750277400', 'Birtha@gmail.com')\n(765, '1310729640', 'Birtie@gmail.com')\n(768, '6384240627', 'Blain@gmail.com')\n(777, '1960331334', 'Blanchie@gmail.com')\n(781, '7355934765', 'Bliss@gmail.com')\n(786, '8564780605', 'Bobbi@gmail.com')\n(796, '7330924561', 'Boone@gmail.com')\n(800, '3088084186', 'Boston@gmail.com')\n(802, '7333327612', 'Boyce@gmail.com')\n(805, '1745193246', 'Brad@gmail.com')\n(806, '8630590695', 'Braden@gmail.com')\n(810, '8549563985', 'Brady@gmail.com')\n(813, '8952248332', 'Braedon@gmail.com')\n(821, '3441208175', 'Branden@gmail.com')\n(823, '1174347775', 'Brandie@gmail.com')\n(828, '5017777606', 'Brandyn@gmail.com')\n(829, '2405798112', 'Brannon@gmail.com')\n(830, '8142240007', 'Branson@gmail.com')\n(836, '6862692848', 'Brayden@gmail.com')\n(837, '1076030747', 'Braydon@gmail.com')\n(839, '4086117544', 'Braylon@gmail.com')\n(842, '3478004102', 'Breann@gmail.com')\n(845, '5229513911', 'Bree@gmail.com')\n(852, '3386191421', 'Brennen@gmail.com')\n(854, '8508732360', 'Brent@gmail.com')\n(862, '1359254296', 'Brianda@gmail.com')\n(869, '1720253494', 'Bridgette@gmail.com')\n(879, '5386995836', 'Brisa@gmail.com')\n(880, '9518132703', 'Britany@gmail.com')\n(886, '6142164707', 'Brittaney@gmail.com')\n(889, '1354227956', 'Brittany@gmail.com')\n(890, '4540501061', 'Brittnay@gmail.com')\n(891, '6067586684', 'Brittnee@gmail.com')\n(906, '3207532290', 'Brooklynn@gmail.com')\n(907, '1115807483', 'Brooks@gmail.com')\n(917, '4276268903', 'Brylee@gmail.com')\n(922, '8299197572', 'Bryson@gmail.com')\n(926, '6557055833', 'Budd@gmail.com')\n(927, '6936671082', 'Buddie@gmail.com')\n(933, '6122286701', 'Buffy@gmail.com')\n(939, '4679506002', 'Burdette@gmail.com')\n(946, '6898619707', 'Burley@gmail.com')\n(948, '7104926540', 'Burnett@gmail.com')\n(951, '7292810275', 'Burnie@gmail.com')\n(955, '9523560959', 'Burrell@gmail.com')\n(963, '5487551826', 'Byrd@gmail.com')\n(966, '3598121949', 'Caddie@gmail.com')\n(971, '2398181043', 'Caesar@gmail.com')\n(975, '4149293076', 'Caitlin@gmail.com')\n(982, '7905362932', 'Caleigh@gmail.com')\n(983, '8388985964', 'Calhoun@gmail.com')\n(985, '8173420968', 'Calista@gmail.com')\n(989, '8497696288', 'Calvin@gmail.com')\n(993, '2932707482', 'Cami@gmail.com')\n(996, '1801095494', 'Camille@gmail.com')\n(5, '6493599305', 'Abagail@gmail.com')\n(7, '5351011151', 'Abbey@gmail.com')\n(8, '3987614712', 'Abbie@gmail.com')\n(9, '1701390575', 'Abbigail@gmail.com')\n(18, '7523266480', 'Abie@gmail.com')\n(20, '2816479673', 'Abigale@gmail.com')\n(26, '1054833835', 'Ace@gmail.com')\n(29, '3159659672', 'Acie@gmail.com')\n(30, '8727125008', 'Acy@gmail.com')\n(35, '4172991067', 'Adalyn@gmail.com')\n(38, '2369140747', 'Adamaris@gmail.com')\n(40, '1242640297', 'Adan@gmail.com')\n(48, '4662736739', 'Adela@gmail.com')\n(62, '5455239024', 'Adin@gmail.com')\n(67, '5402619420', 'Adline@gmail.com')\n(77, '4326194082', 'Adriana@gmail.com')\n(86, '4545389653', 'Adyson@gmail.com')\n(87, '8219482128', 'Aedan@gmail.com')\n(88, '9636718761', 'Affie@gmail.com')\n(91, '7214913717', 'Aggie@gmail.com')\n(92, '3454798028', 'Agnes@gmail.com')\n(95, '8080224200', 'Agustin@gmail.com')\n(96, '7427623035', 'Agustus@gmail.com')\n(97, '6133214625', 'Ah@gmail.com')\n(100, '7759158667', 'Aida@gmail.com')\n(120, '2001541489', 'Alana@gmail.com')\n(127, '7977270065', 'Albert@gmail.com')\n(131, '7203437430', 'Albertine@gmail.com')\n(133, '2090584222', 'Albertus@gmail.com')\n(150, '1627157576', 'Aleen@gmail.com')\n(152, '1040734065', 'Alejandra@gmail.com')\n(156, '4487543434', 'Alene@gmail.com')\n(159, '1753004166', 'Alessandra@gmail.com')\n(160, '6740872836', 'Alessandro@gmail.com')\n(162, '3977470142', 'Aletha@gmail.com')\n(167, '6953427590', 'Alexander@gmail.com')\n(169, '9453377263', 'Alexandra@gmail.com')\n(170, '7490701133', 'Alexandre@gmail.com')\n(172, '7490054190', 'Alexandria@gmail.com')\n(175, '5714293680', 'Alexina@gmail.com')\n(187, '3046410093', 'Alfred@gmail.com')\n(191, '7027240498', 'Algernon@gmail.com')\n(198, '5488685392', 'Alicia@gmail.com')\n(207, '3953402863', 'Alisson@gmail.com')\n(210, '1030516834', 'Aliyah@gmail.com')\n(212, '9767937330', 'Alize@gmail.com')\n(214, '3561086126', 'Allan@gmail.com')\n(224, '7948584725', 'Ally@gmail.com')\n(226, '2371080150', 'Allyson@gmail.com')\n(232, '6485976094', 'Almeta@gmail.com')\n(241, '5167225834', 'Alondra@gmail.com')\n(242, '3813102320', 'Alonso@gmail.com')\n(248, '4003765388', 'Alpheus@gmail.com')\n(255, '6588759090', 'Alta@gmail.com')\n(264, '1624600339', 'Alvaro@gmail.com')\n(267, '3335236321', 'Alvera@gmail.com')\n(268, '6068437502', 'Alverda@gmail.com')\n(272, '9545681247', 'Alvin@gmail.com')\n(286, '6487956805', 'Alysha@gmail.com')\n(291, '8211067801', 'Alyvia@gmail.com')\n(293, '5805206384', 'Ama@gmail.com')\n(294, '1643083892', 'Amado@gmail.com')\n(314, '7079576463', 'Amerigo@gmail.com')\n(316, '6087923144', 'Ami@gmail.com')\n(328, '8423844432', 'Amma@gmail.com')\n(331, '2900227653', 'Amon@gmail.com')\n(336, '2438818154', 'Ana@gmail.com')\n(345, '7570417792', 'Anastasia@gmail.com')\n(349, '8670076333', 'Ancil@gmail.com')\n(351, '4010000731', 'Anderson@gmail.com')\n(352, '3971681288', 'Andon@gmail.com')\n(354, '9537027451', 'Andrae@gmail.com')\n(357, '2503520577', 'Andreas@gmail.com')\n(367, '9431224593', 'Angelia@gmail.com')\n(382, '2988635973', 'Anissa@gmail.com')\n(383, '5822293525', 'Anita@gmail.com')\n(389, '4014906834', 'Anjelica@gmail.com')\n(393, '2068268989', 'Annabell@gmail.com')\n(399, '7557872836', 'Anne@gmail.com')\n(415, '8124500208', 'Anthony@gmail.com')\n(420, '7581670784', 'Anton@gmail.com')\n(430, '3869718963', 'Antwon@gmail.com')\n(436, '1942759661', 'Araceli@gmail.com')\n(449, '9451669610', 'Ardella@gmail.com')\n(450, '7614835380', 'Ardelle@gmail.com')\n(455, '1966173333', 'Ardyce@gmail.com')\n(462, '1134435302', 'Ariana@gmail.com')\n(482, '5768127812', 'Arletta@gmail.com')\n(485, '3292856968', 'Arlin@gmail.com')\n(488, '6531897166', 'Arlis@gmail.com')\n(490, '2236891997', 'Arly@gmail.com')\n(497, '3244843216', 'Armida@gmail.com')\n(500, '1666169667', 'Arminta@gmail.com')\n(501, '5926184698', 'Armond@gmail.com')\n(510, '3275729496', 'Arnoldo@gmail.com')\n(529, '7546096100', 'Arvilla@gmail.com')\n(543, '9121017036', 'Ashlea@gmail.com')\n(545, '8438038479', 'Ashleigh@gmail.com')\n(550, '5784069975', 'Ashlyn@gmail.com')\n(561, '2436528590', 'Atlas@gmail.com')\n(562, '9385469503', 'Atticus@gmail.com')\n(563, '6328032006', 'Attie@gmail.com')\n(566, '2652321811', 'Aubree@gmail.com')\n(567, '2086919655', 'Aubrey@gmail.com')\n(569, '8755487171', 'Audie@gmail.com')\n(571, '4903537532', 'Audra@gmail.com')\n(572, '5937327863', 'Audrey@gmail.com')\n(574, '4231411223', 'Audrianna@gmail.com')\n(578, '6561227457', 'August@gmail.com')\n(579, '2573557405', 'Augusta@gmail.com')\n(581, '5025591336', 'Augustin@gmail.com')\n(584, '5681332742', 'Augustus@gmail.com')\n(586, '1626502653', 'Aurelia@gmail.com')\n(589, '5324544845', 'Aurora@gmail.com')\n(591, '6932684167', 'Aurthur@gmail.com')\n(596, '4339862343', 'Auther@gmail.com')\n(597, '1459152340', 'Author@gmail.com')\n(598, '3399964133', 'Authur@gmail.com')\n(601, '1886777907', 'Ava@gmail.com')\n(608, '8903986929', 'Avon@gmail.com')\n(623, '5793293546', 'Babe@gmail.com')\n(628, '5477727432', 'Bailey@gmail.com')\n(634, '3578544008', 'Banks@gmail.com')\n(636, '8202851270', 'Barbara@gmail.com')\n(641, '5652868631', 'Barney@gmail.com')\n(651, '4109162196', 'Barton@gmail.com')\n(660, '7070816871', 'Beatrice@gmail.com')\n(662, '9408204506', 'Beatriz@gmail.com')\n(667, '7093827004', 'Beckham@gmail.com')\n(673, '1343143433', 'Beecher@gmail.com')\n(675, '2789547616', 'Belia@gmail.com')\n(679, '6228938985', 'Belle@gmail.com')\n(682, '7732748609', 'Ben@gmail.com')\n(684, '5002062748', 'Benard@gmail.com')\n(689, '3304611608', 'Benjamen@gmail.com')\n(691, '1294432341', 'Benjamine@gmail.com')\n(692, '3486362861', 'Benji@gmail.com')\n(698, '1905613076', 'Benson@gmail.com')\n(700, '5116136824', 'Benton@gmail.com')\n(714, '3511373629', 'Bernie@gmail.com')\n(715, '1761240753', 'Berniece@gmail.com')\n(725, '4895794867', 'Bertrand@gmail.com')\n(728, '8591248587', 'Besse@gmail.com')\n(734, '9673201988', 'Bethel@gmail.com')\n(739, '5289462989', 'Bettie@gmail.com')\n(745, '5741556225', 'Beula@gmail.com')\n(746, '7332570403', 'Beulah@gmail.com')\n(748, '8628904997', 'Beverlee@gmail.com')\n(753, '9414771005', 'Biddie@gmail.com')\n(759, '3541367025', 'Bina@gmail.com')\n(763, '4220209623', 'Birt@gmail.com')\n(766, '2994297193', 'Bishop@gmail.com')\n(772, '6403906499', 'Blake@gmail.com')\n(776, '9306502594', 'Blanche@gmail.com')\n(786, '8564780605', 'Bobbi@gmail.com')\n(787, '6081271597', 'Bobbie@gmail.com')\n(795, '3959320262', 'Booker@gmail.com')\n(797, '9664557492', 'Boris@gmail.com')\n(804, '9640951302', 'Boysie@gmail.com')\n(811, '8869712457', 'Bradyn@gmail.com')\n(812, '8090250065', 'Braeden@gmail.com')\n(813, '8952248332', 'Braedon@gmail.com')\n(816, '2212759352', 'Brain@gmail.com')\n(826, '5050330236', 'Brandt@gmail.com')\n(827, '1874806723', 'Brandy@gmail.com')\n(829, '2405798112', 'Brannon@gmail.com')\n(831, '6533160577', 'Brant@gmail.com')\n(839, '4086117544', 'Braylon@gmail.com')\n(841, '7854106804', 'Breana@gmail.com')\n(845, '5229513911', 'Bree@gmail.com')\n(849, '4834991974', 'Brendon@gmail.com')\n(854, '8508732360', 'Brent@gmail.com')\n(858, '9484269025', 'Brett@gmail.com')\n(860, '6310667813', 'Brian@gmail.com')\n(868, '9258445462', 'Bridgett@gmail.com')\n(871, '9613536667', 'Brien@gmail.com')\n(875, '2000319325', 'Briley@gmail.com')\n(880, '9518132703', 'Britany@gmail.com')\n(890, '4540501061', 'Brittnay@gmail.com')\n(893, '3732672155', 'Brittni@gmail.com')\n(898, '7674172053', 'Broderick@gmail.com')\n(902, '3938645465', 'Bronson@gmail.com')\n(909, '8541630963', 'Bruce@gmail.com')\n(913, '9978940360', 'Bryanna@gmail.com')\n(916, '8683067609', 'Brycen@gmail.com')\n(922, '8299197572', 'Bryson@gmail.com')\n(923, '2999598463', 'Bryton@gmail.com')\n(932, '9864075621', 'Buena@gmail.com')\n(936, '3547837467', 'Bulah@gmail.com')\n(961, '4965739648', 'Butler@gmail.com')\n(966, '3598121949', 'Caddie@gmail.com')\n(981, '5926610209', 'Caleb@gmail.com')\n(982, '7905362932', 'Caleigh@gmail.com')\n(992, '2494608185', 'Cameron@gmail.com')\n(994, '8961598954', 'Camila@gmail.com')\n(996, '1801095494', 'Camille@gmail.com')\n(998, '8230855174', 'Cammie@gmail.com')\n(999, '1321435577', 'Campbell@gmail.com')\n(7, '5351011151', 'Abbey@gmail.com')\n(10, '1811152358', 'Abbott@gmail.com')\n(19, '2617570668', 'Abigail@gmail.com')\n(21, '2849626769', 'Abigayle@gmail.com')\n(23, '5409457234', 'Abraham@gmail.com')\n(26, '1054833835', 'Ace@gmail.com')\n(29, '3159659672', 'Acie@gmail.com')\n(32, '4633147183', 'Adah@gmail.com')\n(34, '4035087121', 'Adaline@gmail.com')\n(36, '5864991623', 'Adalynn@gmail.com')\n(38, '2369140747', 'Adamaris@gmail.com')\n(46, '5992239524', 'Addyson@gmail.com')\n(47, '6679284211', 'Adel@gmail.com')\n(48, '4662736739', 'Adela@gmail.com')\n(50, '8862913660', 'Adelard@gmail.com')\n(56, '9440484315', 'Adell@gmail.com')\n(59, '1242696714', 'Adelyn@gmail.com')\n(64, '1437368279', 'Adison@gmail.com')\n(69, '9120730364', 'Adolf@gmail.com')\n(70, '1163981320', 'Adolfo@gmail.com')\n(75, '3881653024', 'Adria@gmail.com')\n(79, '2725591347', 'Adrianna@gmail.com')\n(82, '6811234587', 'Adrien@gmail.com')\n(92, '3454798028', 'Agnes@gmail.com')\n(98, '5673851320', 'Ahmad@gmail.com')\n(100, '7759158667', 'Aida@gmail.com')\n(130, '6569289340', 'Albertina@gmail.com')\n(131, '7203437430', 'Albertine@gmail.com')\n(133, '2090584222', 'Albertus@gmail.com')\n(139, '9013589654', 'Alcide@gmail.com')\n(142, '2486189649', 'Alden@gmail.com')\n(145, '6004497888', 'Aleah@gmail.com')\n(159, '1753004166', 'Alessandra@gmail.com')\n(160, '6740872836', 'Alessandro@gmail.com')\n(171, '3359412720', 'Alexandrea@gmail.com')\n(173, '1587596361', 'Alexandro@gmail.com')\n(182, '1561051704', 'Alfie@gmail.com')\n(185, '8057060524', 'Alfonzo@gmail.com')\n(192, '3138035112', 'Algie@gmail.com')\n(193, '7863826404', 'Algot@gmail.com')\n(197, '3496880819', 'Alice@gmail.com')\n(203, '7052309267', 'Alisa@gmail.com')\n(213, '9289552940', 'Alla@gmail.com')\n(216, '1694578084', 'Alleen@gmail.com')\n(219, '7813419888', 'Allene@gmail.com')\n(226, '2371080150', 'Allyson@gmail.com')\n(227, '4706839240', 'Allyssa@gmail.com')\n(233, '2412696492', 'Almina@gmail.com')\n(239, '2253793911', 'Alois@gmail.com')\n(241, '5167225834', 'Alondra@gmail.com')\n(252, '5684579266', 'Alphonso@gmail.com')\n(256, '1608406634', 'Altha@gmail.com')\n(259, '6293633736', 'Alto@gmail.com')\n(262, '4878392235', 'Alvah@gmail.com')\n(270, '7350050575', 'Alvia@gmail.com')\n(273, '8771803838', 'Alvina@gmail.com')\n(278, '4854446548', 'Alwin@gmail.com')\n(280, '3644001294', 'Alwine@gmail.com')\n(287, '4844415903', 'Alysia@gmail.com')\n(291, '8211067801', 'Alyvia@gmail.com')\n(294, '1643083892', 'Amado@gmail.com')\n(298, '8237220775', 'Amani@gmail.com')\n(301, '9853138901', 'Amari@gmail.com')\n(302, '9558408772', 'Amarion@gmail.com')\n(309, '7433627576', 'Ambrose@gmail.com')\n(311, '5613598076', 'Amelie@gmail.com')\n(313, '3334188704', 'Americo@gmail.com')\n(316, '6087923144', 'Ami@gmail.com')\n(320, '4691020559', 'Amin@gmail.com')\n(321, '4473118085', 'Amina@gmail.com')\n(324, '6638741094', 'Amirah@gmail.com')\n(330, '4803924039', 'Ammon@gmail.com')\n(332, '8809553584', 'Amos@gmail.com')\n(337, '5246364826', 'Anabel@gmail.com')\n(342, '2686183969', 'Ananias@gmail.com')\n(346, '9130207127', 'Anatole@gmail.com')\n(347, '4924537006', 'Anaya@gmail.com')\n(350, '1126077451', 'Anders@gmail.com')\n(352, '3971681288', 'Andon@gmail.com')\n(354, '9537027451', 'Andrae@gmail.com')\n(355, '9645342632', 'Andre@gmail.com')\n(371, '2806914555', 'Angeline@gmail.com')\n(372, '6998131829', 'Angelique@gmail.com')\n(375, '7914409147', 'Angelo@gmail.com')\n(381, '2109287606', 'Anika@gmail.com')\n(382, '2988635973', 'Anissa@gmail.com')\n(384, '1135901061', 'Anitra@gmail.com')\n(385, '2978886141', 'Aniya@gmail.com')\n(387, '2446621694', 'Anjali@gmail.com')\n(394, '8095957923', 'Annabella@gmail.com')\n(401, '2003562969', 'Annemarie@gmail.com')\n(403, '6621943379', 'Annetta@gmail.com')\n(404, '5174469304', 'Annette@gmail.com')\n(406, '5443226309', 'Annie@gmail.com')\n(409, '2179143364', 'Annmarie@gmail.com')\n(411, '3593297838', 'Ansel@gmail.com')\n(426, '5661802407', 'Antonio@gmail.com')\n(429, '5291540472', 'Antwan@gmail.com')\n(432, '6943454646', 'Anya@gmail.com')\n(433, '1924826846', 'April@gmail.com')\n(443, '5533101250', 'Archer@gmail.com')\n(447, '3319001933', 'Ardelia@gmail.com')\n(451, '4503487754', 'Arden@gmail.com')\n(474, '9765869781', 'Arla@gmail.com')\n(488, '6531897166', 'Arlis@gmail.com')\n(493, '3132378954', 'Arman@gmail.com')\n(500, '1666169667', 'Arminta@gmail.com')\n(502, '9131901444', 'Armstead@gmail.com')\n(503, '3144575658', 'Arnav@gmail.com')\n(506, '7309381415', 'Arnetta@gmail.com')\n(509, '2944006728', 'Arnold@gmail.com')\n(510, '3275729496', 'Arnoldo@gmail.com')\n(517, '9081877267', 'Art@gmail.com')\n(519, '1390662418', 'Artelia@gmail.com')\n(521, '4957287700', 'Arthor@gmail.com')\n(522, '2446306923', 'Arthur@gmail.com')\n(523, '2966952989', 'Artie@gmail.com')\n(529, '7546096100', 'Arvilla@gmail.com')\n(536, '5526489255', 'Asberry@gmail.com')\n(539, '1391045838', 'Ashanti@gmail.com')\n(547, '9900187804', 'Ashli@gmail.com')\n(548, '1039500333', 'Ashlie@gmail.com')\n(561, '2436528590', 'Atlas@gmail.com')\n(562, '9385469503', 'Atticus@gmail.com')\n(569, '8755487171', 'Audie@gmail.com')\n(573, '8236433649', 'Audriana@gmail.com')\n(582, '9724950767', 'Augustina@gmail.com')\n(584, '5681332742', 'Augustus@gmail.com')\n(588, '4238756409', 'Aurilla@gmail.com')\n(591, '6932684167', 'Aurthur@gmail.com')\n(603, '3231206167', 'Averi@gmail.com')\n(609, '2307117687', 'Axel@gmail.com')\n(612, '8506363336', 'Ayanna@gmail.com')\n(619, '4607310157', 'Azalee@gmail.com')\n(631, '2057180233', 'Ballard@gmail.com')\n(632, '7399755059', 'Bama@gmail.com')\n(633, '4345673628', 'Bambi@gmail.com')\n(639, '4901512062', 'Barnard@gmail.com')\n(646, '9461748378', 'Barron@gmail.com')\n(653, '7570194650', 'Basil@gmail.com')\n(660, '7070816871', 'Beatrice@gmail.com')\n(663, '8964134724', 'Beau@gmail.com')\n(666, '4510439647', 'Beckett@gmail.com')\n(675, '2789547616', 'Belia@gmail.com')\n(677, '7295725356', 'Bell@gmail.com')\n(679, '6228938985', 'Belle@gmail.com')\n(685, '5386240123', 'Benedict@gmail.com')\n(687, '3161304916', 'Benito@gmail.com')\n(689, '3304611608', 'Benjamen@gmail.com')\n(696, '1167066223', 'Bennie@gmail.com')\n(697, '1721679714', 'Benny@gmail.com')\n(699, '8139565378', 'Bentley@gmail.com')\n(702, '3644002970', 'Berenice@gmail.com')\n(716, '6626620317', 'Bernita@gmail.com')\n(719, '3748388151', 'Berta@gmail.com')\n(721, '7169024153', 'Bertie@gmail.com')\n(722, '8219750953', 'Bertina@gmail.com')\n(729, '7008291054', 'Bessie@gmail.com')\n(730, '2511392510', 'Beth@gmail.com')\n(731, '9712173135', 'Betha@gmail.com')\n(734, '9673201988', 'Bethel@gmail.com')\n(735, '3460423557', 'Bethzy@gmail.com')\n(753, '9414771005', 'Biddie@gmail.com')\n(757, '8997638955', 'Billy@gmail.com')\n(761, '2068770790', 'Birdella@gmail.com')\n(773, '7547078439', 'Blanca@gmail.com')\n(776, '9306502594', 'Blanche@gmail.com')\n(785, '8075916357', 'Bob@gmail.com')\n(788, '1617577975', 'Bobby@gmail.com')\n(791, '2908144160', 'Bolden@gmail.com')\n(808, '5640281883', 'Bradley@gmail.com')\n(811, '8869712457', 'Bradyn@gmail.com')\n(818, '7126227966', 'Brandan@gmail.com')\n(819, '2569639131', 'Brande@gmail.com')\n(822, '1132619756', 'Brandi@gmail.com')\n(828, '5017777606', 'Brandyn@gmail.com')\n(848, '6502412910', 'Brenden@gmail.com')\n(874, '6755277823', 'Brigitte@gmail.com')\n(880, '9518132703', 'Britany@gmail.com')\n(887, '2658163256', 'Brittani@gmail.com')\n(888, '7678743015', 'Brittanie@gmail.com')\n(891, '6067586684', 'Brittnee@gmail.com')\n(893, '3732672155', 'Brittni@gmail.com')\n(903, '8188444252', 'Brook@gmail.com')\n(908, '8504411804', 'Brown@gmail.com')\n(911, '3447738419', 'Bryan@gmail.com')\n(915, '8912198175', 'Bryce@gmail.com')\n(916, '8683067609', 'Brycen@gmail.com')\n(919, '2368377380', 'Brynlee@gmail.com')\n(928, '2835051867', 'Buddy@gmail.com')\n(930, '3809128742', 'Buelah@gmail.com')\n(934, '8719937693', 'Buford@gmail.com')\n(935, '3755499861', 'Bula@gmail.com')\n(943, '2987939293', 'Burke@gmail.com')\n(949, '3994345766', 'Burney@gmail.com')\n(956, '2848470487', 'Burt@gmail.com')\n(958, '5500129817', 'Bush@gmail.com')\n(960, '5068790742', 'Butch@gmail.com')\n(964, '9555853373', 'Byrdie@gmail.com')\n(967, '1257887394', 'Cade@gmail.com')\n(968, '2104714320', 'Caden@gmail.com')\n(973, '8188836358', 'Cailyn@gmail.com')\n(974, '9284489952', 'Cain@gmail.com')\n(981, '5926610209', 'Caleb@gmail.com')\n(996, '1801095494', 'Camille@gmail.com')\n(997, '4954460365', 'Camisha@gmail.com')\n"
     ]
    }
   ],
   "source": [
    "list_product_cart(mydb,5)"
   ]
  },
  {
   "source": [
    "### 19. List all retailer ids whose products, user_id = 1 have purchased."
   ],
   "cell_type": "markdown",
   "metadata": {}
  },
  {
   "cell_type": "code",
   "execution_count": 115,
   "metadata": {},
   "outputs": [],
   "source": [
    " def list_retailers(mydb,user):\n",
    "    \n",
    "    query = \"\"\"\n",
    "    select Products.retailer_ID\n",
    "    from Products inner join\n",
    "    (select *\n",
    "    from Orders\n",
    "    where Orders.user_ID= %s ) as A\n",
    "    on A.product_ID=Products.product_ID;\n",
    "\n",
    "    \"\"\"\n",
    "    dbcursor=mydb.cursor()\n",
    "    dbcursor.execute(query,(user,))\n",
    "    print(\"Retailer Ids\")\n",
    "    for line in dbcursor:\n",
    "        print(line)"
   ]
  },
  {
   "cell_type": "code",
   "execution_count": 116,
   "metadata": {},
   "outputs": [
    {
     "output_type": "stream",
     "name": "stdout",
     "text": [
      "Retailer Ids\n(19,)\n(22,)\n(48,)\n(47,)\n(47,)\n(10,)\n(48,)\n(40,)\n(10,)\n"
     ]
    }
   ],
   "source": [
    "list_retailers(mydb,1)"
   ]
  },
  {
   "source": [
    "### 20. Write a query to update the discount on all new products by 15% and store it as a new table holi_Deals. Note: Any product that is added to the database in the last 100 days is considered to be a new product."
   ],
   "cell_type": "markdown",
   "metadata": {}
  },
  {
   "cell_type": "code",
   "execution_count": 185,
   "metadata": {},
   "outputs": [],
   "source": [
    "def new_deals(mydb,tablename,discount):\n",
    "\n",
    "\n",
    "    table_create =\"\"\"\n",
    "    CREATE TABLE if not exists {table} (\n",
    "    product_ID int,\n",
    "    product_Name varchar(50),\n",
    "    category_ID int,\n",
    "    date_added date,\n",
    "    price float(2),\n",
    "    retailer_ID int);\n",
    "    \"\"\".format(table=tablename)\n",
    "\n",
    "    dbcursor = mydb.cursor()\n",
    "    dbcursor.execute(table_create)\n",
    "    mydb.commit()\n",
    "    \n",
    "    discount_factor = 1-int(discount)/100\n",
    "    query=\"\"\"\n",
    "\n",
    "    INSERT INTO {table}\n",
    "    (product_ID,product_Name,category_ID,date_added,price,retailer_ID) \n",
    "    SELECT product_ID,product_Name,category_ID,date_added,price*%s,retailer_ID \n",
    "    from Products \n",
    "    WHERE date_added >=(DATE(NOW()) - INTERVAL 100 DAY) \n",
    "    ORDER BY date_added DESC;\n",
    "\n",
    "\n",
    "    \"\"\".format(table=tablename)\n",
    "\n",
    "    dbcursor.execute(query,(discount_factor,))\n",
    "    mydb.commit()\n",
    "    dbcursor.execute(\"select * from {table}\".format(table=tablename))\n",
    "    for line in dbcursor:\n",
    "        print(line)"
   ]
  },
  {
   "cell_type": "code",
   "execution_count": 186,
   "metadata": {},
   "outputs": [
    {
     "output_type": "stream",
     "name": "stdout",
     "text": [
      "(55, 'The Intelligent Investor', 3, datetime.date(2021, 2, 1), 95.2, 44)\n(57, 'The Kite Runner', 3, datetime.date(2021, 1, 28), 255.0, 39)\n(56, 'The lean Startup', 3, datetime.date(2021, 1, 24), 212.5, 40)\n(58, 'The Mechanic', 3, datetime.date(2021, 1, 20), 340.0, 39)\n(54, 'Cut and Sew Denim Jeans', 1, datetime.date(2020, 12, 13), 727.6, 49)\n(53, 'Slim Fit Denim Jeans', 1, datetime.date(2020, 12, 12), 449.65, 48)\n(48, 'Mens Bomber Jacket', 1, datetime.date(2020, 12, 10), 859.35, 48)\n(55, 'The Intelligent Investor', 3, datetime.date(2021, 2, 1), 95.2, 44)\n(57, 'The Kite Runner', 3, datetime.date(2021, 1, 28), 255.0, 39)\n(56, 'The lean Startup', 3, datetime.date(2021, 1, 24), 212.5, 40)\n(58, 'The Mechanic', 3, datetime.date(2021, 1, 20), 340.0, 39)\n(54, 'Cut and Sew Denim Jeans', 1, datetime.date(2020, 12, 13), 727.6, 49)\n(53, 'Slim Fit Denim Jeans', 1, datetime.date(2020, 12, 12), 449.65, 48)\n(48, 'Mens Bomber Jacket', 1, datetime.date(2020, 12, 10), 859.35, 48)\n(55, 'The Intelligent Investor', 3, datetime.date(2021, 2, 1), 95.2, 44)\n(57, 'The Kite Runner', 3, datetime.date(2021, 1, 28), 255.0, 39)\n(56, 'The lean Startup', 3, datetime.date(2021, 1, 24), 212.5, 40)\n(58, 'The Mechanic', 3, datetime.date(2021, 1, 20), 340.0, 39)\n(54, 'Cut and Sew Denim Jeans', 1, datetime.date(2020, 12, 13), 727.6, 49)\n(53, 'Slim Fit Denim Jeans', 1, datetime.date(2020, 12, 12), 449.65, 48)\n(48, 'Mens Bomber Jacket', 1, datetime.date(2020, 12, 10), 859.35, 48)\n(55, 'The Intelligent Investor', 3, datetime.date(2021, 2, 1), 95.2, 44)\n(57, 'The Kite Runner', 3, datetime.date(2021, 1, 28), 255.0, 39)\n(56, 'The lean Startup', 3, datetime.date(2021, 1, 24), 212.5, 40)\n(58, 'The Mechanic', 3, datetime.date(2021, 1, 20), 340.0, 39)\n(54, 'Cut and Sew Denim Jeans', 1, datetime.date(2020, 12, 13), 727.6, 49)\n(53, 'Slim Fit Denim Jeans', 1, datetime.date(2020, 12, 12), 449.65, 48)\n(48, 'Mens Bomber Jacket', 1, datetime.date(2020, 12, 10), 859.35, 48)\n(55, 'The Intelligent Investor', 3, datetime.date(2021, 2, 1), 95.2, 44)\n(57, 'The Kite Runner', 3, datetime.date(2021, 1, 28), 255.0, 39)\n(56, 'The lean Startup', 3, datetime.date(2021, 1, 24), 212.5, 40)\n(58, 'The Mechanic', 3, datetime.date(2021, 1, 20), 340.0, 39)\n(54, 'Cut and Sew Denim Jeans', 1, datetime.date(2020, 12, 13), 727.6, 49)\n(53, 'Slim Fit Denim Jeans', 1, datetime.date(2020, 12, 12), 449.65, 48)\n(48, 'Mens Bomber Jacket', 1, datetime.date(2020, 12, 10), 859.35, 48)\n(55, 'The Intelligent Investor', 3, datetime.date(2021, 2, 1), 95.2, 44)\n(57, 'The Kite Runner', 3, datetime.date(2021, 1, 28), 255.0, 39)\n(56, 'The lean Startup', 3, datetime.date(2021, 1, 24), 212.5, 40)\n(58, 'The Mechanic', 3, datetime.date(2021, 1, 20), 340.0, 39)\n(54, 'Cut and Sew Denim Jeans', 1, datetime.date(2020, 12, 13), 727.6, 49)\n(53, 'Slim Fit Denim Jeans', 1, datetime.date(2020, 12, 12), 449.65, 48)\n(48, 'Mens Bomber Jacket', 1, datetime.date(2020, 12, 10), 859.35, 48)\n(55, 'The Intelligent Investor', 3, datetime.date(2021, 2, 1), 95.2, 44)\n(57, 'The Kite Runner', 3, datetime.date(2021, 1, 28), 255.0, 39)\n(56, 'The lean Startup', 3, datetime.date(2021, 1, 24), 212.5, 40)\n(58, 'The Mechanic', 3, datetime.date(2021, 1, 20), 340.0, 39)\n(54, 'Cut and Sew Denim Jeans', 1, datetime.date(2020, 12, 13), 727.6, 49)\n(53, 'Slim Fit Denim Jeans', 1, datetime.date(2020, 12, 12), 449.65, 48)\n(48, 'Mens Bomber Jacket', 1, datetime.date(2020, 12, 10), 859.35, 48)\n(55, 'The Intelligent Investor', 3, datetime.date(2021, 2, 1), 95.2, 44)\n(57, 'The Kite Runner', 3, datetime.date(2021, 1, 28), 255.0, 39)\n(56, 'The lean Startup', 3, datetime.date(2021, 1, 24), 212.5, 40)\n(58, 'The Mechanic', 3, datetime.date(2021, 1, 20), 340.0, 39)\n(54, 'Cut and Sew Denim Jeans', 1, datetime.date(2020, 12, 13), 727.6, 49)\n(53, 'Slim Fit Denim Jeans', 1, datetime.date(2020, 12, 12), 449.65, 48)\n(48, 'Mens Bomber Jacket', 1, datetime.date(2020, 12, 10), 859.35, 48)\n"
     ]
    }
   ],
   "source": [
    "new_deals(mydb,'holi_Deals','15'    )"
   ]
  }
 ]
}