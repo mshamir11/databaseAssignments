{
 "metadata": {
  "language_info": {
   "codemirror_mode": {
    "name": "ipython",
    "version": 3
   },
   "file_extension": ".py",
   "mimetype": "text/x-python",
   "name": "python",
   "nbconvert_exporter": "python",
   "pygments_lexer": "ipython3",
   "version": "3.8.5-final"
  },
  "orig_nbformat": 2,
  "kernelspec": {
   "name": "python3",
   "display_name": "Python 3",
   "language": "python"
  }
 },
 "nbformat": 4,
 "nbformat_minor": 2,
 "cells": [
  {
   "cell_type": "code",
   "execution_count": 4,
   "metadata": {},
   "outputs": [],
   "source": [
    "import numpy as np\n",
    "import pandas as pd"
   ]
  },
  {
   "source": [
    "## Creating Pandas Dataframe"
   ],
   "cell_type": "markdown",
   "metadata": {}
  },
  {
   "cell_type": "code",
   "execution_count": 1,
   "metadata": {},
   "outputs": [
    {
     "output_type": "error",
     "ename": "NameError",
     "evalue": "name 'pd' is not defined",
     "traceback": [
      "\u001b[0;31m---------------------------------------------------------------------------\u001b[0m",
      "\u001b[0;31mNameError\u001b[0m                                 Traceback (most recent call last)",
      "\u001b[0;32m<ipython-input-1-5280638ccd2e>\u001b[0m in \u001b[0;36m<module>\u001b[0;34m\u001b[0m\n\u001b[0;32m----> 1\u001b[0;31m \u001b[0mdf_info\u001b[0m \u001b[0;34m=\u001b[0m \u001b[0mpd\u001b[0m\u001b[0;34m.\u001b[0m\u001b[0mread_excel\u001b[0m\u001b[0;34m(\u001b[0m\u001b[0;34m'./dataset/2/movie_info.xlsx'\u001b[0m\u001b[0;34m)\u001b[0m\u001b[0;34m\u001b[0m\u001b[0;34m\u001b[0m\u001b[0m\n\u001b[0m\u001b[1;32m      2\u001b[0m \u001b[0mdf_review\u001b[0m \u001b[0;34m=\u001b[0m \u001b[0mpd\u001b[0m\u001b[0;34m.\u001b[0m\u001b[0mread_excel\u001b[0m\u001b[0;34m(\u001b[0m\u001b[0;34m'./dataset/2/movie_reviews.xls'\u001b[0m\u001b[0;34m)\u001b[0m\u001b[0;34m\u001b[0m\u001b[0;34m\u001b[0m\u001b[0m\n\u001b[1;32m      3\u001b[0m \u001b[0mdf_user\u001b[0m \u001b[0;34m=\u001b[0m \u001b[0mpd\u001b[0m\u001b[0;34m.\u001b[0m\u001b[0mread_excel\u001b[0m\u001b[0;34m(\u001b[0m\u001b[0;34m'./dataset/2/userdata.xls'\u001b[0m\u001b[0;34m)\u001b[0m\u001b[0;34m\u001b[0m\u001b[0;34m\u001b[0m\u001b[0m\n\u001b[1;32m      4\u001b[0m \u001b[0mprint\u001b[0m\u001b[0;34m(\u001b[0m\u001b[0;34m\"Shapes of df:\"\u001b[0m\u001b[0;34m)\u001b[0m\u001b[0;34m\u001b[0m\u001b[0;34m\u001b[0m\u001b[0m\n\u001b[1;32m      5\u001b[0m \u001b[0mprint\u001b[0m\u001b[0;34m(\u001b[0m\u001b[0;34mf\"Movie Info: {df_info.shape}\"\u001b[0m\u001b[0;34m)\u001b[0m\u001b[0;34m\u001b[0m\u001b[0;34m\u001b[0m\u001b[0m\n",
      "\u001b[0;31mNameError\u001b[0m: name 'pd' is not defined"
     ]
    }
   ],
   "source": [
    "df_info = pd.read_excel('./dataset/2/movie_info.xlsx')\n",
    "df_review = pd.read_excel('./dataset/2/movie_reviews.xls')\n",
    "df_user = pd.read_excel('./dataset/2/userdata.xls')\n",
    "print(\"Shapes of df:\")\n",
    "print(f\"Movie Info: {df_info.shape}\")\n",
    "print(f\"User Data: {df_user.shape}\")\n",
    "print(f\"Movie Review: {df_review.shape}\")"
   ]
  },
  {
   "source": [
    "## Creating Database"
   ],
   "cell_type": "markdown",
   "metadata": {}
  },
  {
   "cell_type": "code",
   "execution_count": 46,
   "metadata": {},
   "outputs": [
    {
     "output_type": "execute_result",
     "data": {
      "text/plain": [
       "True"
      ]
     },
     "metadata": {},
     "execution_count": 46
    }
   ],
   "source": [
    "import mysql.connector\n",
    "\n",
    "mydb = mysql.connector.connect(\n",
    "    host=\"localhost\",\n",
    "    user=\"temp\",\n",
    "    passwd=\"password\"\n",
    "    \n",
    ")\n",
    "\n",
    "mycursor = mydb.cursor()\n",
    "mycursor.execute(\"drop database RandomX;\")\n",
    "mycursor.execute(\"create database RandomX;\")\n",
    "mycursor.close()\n"
   ]
  },
  {
   "source": [
    "## Creating Tables"
   ],
   "cell_type": "markdown",
   "metadata": {}
  },
  {
   "cell_type": "code",
   "execution_count": 47,
   "metadata": {},
   "outputs": [
    {
     "output_type": "execute_result",
     "data": {
      "text/plain": [
       "True"
      ]
     },
     "metadata": {},
     "execution_count": 47
    }
   ],
   "source": [
    "mydb = mysql.connector.connect(\n",
    "    host=\"localhost\",\n",
    "    user=\"temp\",\n",
    "    passwd=\"password\",\n",
    "    database =\"RandomX\"\n",
    "    \n",
    ")\n",
    "\n",
    "mycursor = mydb.cursor()\n",
    "create_table = \"\"\"\n",
    "\n",
    "CREATE TABLE if not exists `user_details` (\n",
    "  `user_name` varchar(50),\n",
    "  `gender` varchar(50),\n",
    "  `age` int,\n",
    "  PRIMARY KEY (`user_name`)\n",
    ");\n",
    "\n",
    "CREATE TABLE if not exists `movie_details` (\n",
    "  `movie_id` varchar(80),\n",
    "  `movie_title` varchar(100),\n",
    "  `audience_rating` float,\n",
    "  PRIMARY KEY (`movie_id`)\n",
    ");\n",
    "\n",
    "CREATE TABLE if not exists `movie_reviews` (\n",
    "  `review_id` int not null auto_increment,\n",
    "  `movie_id` varchar(80),\n",
    "  `user_name` varchar(50),\n",
    "  `movie_rev` varchar(1000),\n",
    "  PRIMARY KEY (`review_id`),\n",
    "  FOREIGN KEY (movie_id) REFERENCES movie_details(movie_id),\n",
    "  FOREIGN KEY (user_name) REFERENCES user_details(user_name)\n",
    "\n",
    ");\n",
    "\"\"\"\n",
    "mycursor.execute(create_table)\n",
    "\n",
    "mycursor.close()\n"
   ]
  },
  {
   "source": [
    "## Inserting Data:"
   ],
   "cell_type": "markdown",
   "metadata": {}
  },
  {
   "cell_type": "code",
   "execution_count": 48,
   "metadata": {},
   "outputs": [
    {
     "output_type": "execute_result",
     "data": {
      "text/plain": [
       "True"
      ]
     },
     "metadata": {},
     "execution_count": 48
    }
   ],
   "source": [
    "mydb = mysql.connector.connect(\n",
    "    host=\"localhost\",\n",
    "    user=\"temp\",\n",
    "    passwd=\"password\",\n",
    "    database =\"RandomX\"\n",
    "    \n",
    ")\n",
    "\n",
    "\n",
    "\n",
    "def list_creator (df):\n",
    "    column_names = df.columns\n",
    "    \n",
    "    temp_list=[]\n",
    "    for i in range(len(df)):\n",
    "        \n",
    "        temp_query= []\n",
    "        for j in range(len(column_names)):\n",
    "            item=column_names[j]\n",
    "            temp_query.append(str(df[item][i]))\n",
    "\n",
    "    \n",
    "        temp_list.append(tuple(temp_query))\n",
    "    return temp_list\n",
    "\n",
    "\n",
    "user_list = list_creator(df_user)\n",
    "movie_list = list_creator(df_info)\n",
    "review_list = list_creator(df_review)\n",
    "\n",
    "mycursor = mydb.cursor()\n",
    "\n",
    "user_query=\"INSERT INTO user_details (user_name,gender,age) VALUES (%s,%s,%s)\"\n",
    "movie_query = \"INSERT INTO movie_details (movie_id,movie_title,audience_rating) VALUES (%s,%s,%s)\"\n",
    "review_query = \"INSERT INTO movie_reviews (movie_id,user_name,movie_rev) VALUES (%s,%s,%s)\"\n",
    "\n",
    "mycursor.executemany(user_query,user_list)\n",
    "mycursor.executemany(movie_query,movie_list)\n",
    "mycursor.executemany(review_query,review_list)\n",
    "\n",
    "mydb.commit()\n",
    "mycursor.close()"
   ]
  },
  {
   "source": [
    "## Verifying Whether all data is inserted"
   ],
   "cell_type": "markdown",
   "metadata": {}
  },
  {
   "cell_type": "code",
   "execution_count": 49,
   "metadata": {},
   "outputs": [
    {
     "output_type": "stream",
     "name": "stdout",
     "text": [
      "Number of Users: (20,)\nNumber of Movies: (100,)\nNumber of Reviews (500,)\n"
     ]
    }
   ],
   "source": [
    "mydb = mysql.connector.connect(\n",
    "    host=\"localhost\",\n",
    "    user=\"temp\",\n",
    "    passwd=\"password\",\n",
    "    database =\"RandomX\"\n",
    "    \n",
    ")\n",
    "\n",
    "mycursor = mydb.cursor()\n",
    "\n",
    "mycursor.execute('select COUNT(*) from user_details;')\n",
    "for line in mycursor:\n",
    "    print(\"Number of Users:\",line)\n",
    "\n",
    "mycursor.execute('select COUNT(*) from movie_details;')\n",
    "for line in mycursor:\n",
    "    print(\"Number of Movies:\",line)\n",
    "\n",
    "mycursor.execute('select COUNT(*) from movie_reviews;')\n",
    "for line in mycursor:\n",
    "    print(\"Number of Reviews\",line)\n"
   ]
  },
  {
   "cell_type": "code",
   "execution_count": null,
   "metadata": {},
   "outputs": [],
   "source": []
  },
  {
   "source": [
    "## 3. Updating Sentiment of the Review"
   ],
   "cell_type": "markdown",
   "metadata": {}
  },
  {
   "cell_type": "code",
   "execution_count": 50,
   "metadata": {
    "tags": []
   },
   "outputs": [],
   "source": [
    "'''\n",
    "A dictionary is created.\n",
    "where,\n",
    "        key =word\n",
    "        value = 1 if word is positive\n",
    "               -1 if word is negative\n",
    "\n",
    "'''\n",
    "\n",
    "positive_f = open('./dataset/2/positive_words.txt','r')\n",
    "negative_f = open('./dataset/2/negative_words.txt','r')\n",
    "\n",
    "\n",
    "word_dictionary ={}\n",
    "for line in positive_f:\n",
    "    temp=line.rstrip('\\n')\n",
    "    word_dictionary[temp]=1\n",
    "\n",
    "for line in negative_f:\n",
    "    temp=line.rstrip('\\n')\n",
    "    word_dictionary[temp]= -1\n",
    "\n",
    "\n"
   ]
  },
  {
   "cell_type": "code",
   "execution_count": 51,
   "metadata": {},
   "outputs": [],
   "source": [
    "'''\n",
    "To find the sentiment of each review. We traverse through each words of the review.\n",
    "\n",
    "We initialize the sentiment score =0\n",
    "\n",
    "Then if the words is in the dictionary, the respective value is added to the sentiment score\n",
    "\n",
    "if the sentiment score is positive, it means more positive words and the sentence is positive. Similary if it is negative, the sentence would be negative and would be neutral if the score is zero.\n",
    "\n",
    "'''\n",
    "\n",
    "\n",
    "\n",
    "def find_sentiment(review_list):\n",
    "    sentiment_array=[0]*len(review_list)\n",
    "\n",
    "    for i in range(len(review_list)):\n",
    "        item = review_list[i]\n",
    "        temp_list =item[-1].split()\n",
    "        sentiment_score=0\n",
    "        for word in temp_list:\n",
    "            try:\n",
    "                if word_dictionary[word]:\n",
    "                    sentiment_score+=word_dictionary[word]\n",
    "            except:\n",
    "                continue\n",
    "        \n",
    "        if sentiment_score>0:\n",
    "            sentiment_array[i]='positive'\n",
    "        \n",
    "        elif sentiment_score<0:\n",
    "            sentiment_array[i]='negative'\n",
    "        else:\n",
    "            sentiment_array[i]='neutral'\n",
    "    return sentiment_array\n",
    "\n",
    "review_list = list_creator(df_review)\n",
    "sentiment_array=find_sentiment(review_list)"
   ]
  },
  {
   "cell_type": "code",
   "execution_count": 55,
   "metadata": {},
   "outputs": [
    {
     "output_type": "error",
     "ename": "ProgrammingError",
     "evalue": "1060 (42S21): Duplicate column name 'sentiment'",
     "traceback": [
      "\u001b[0;31m---------------------------------------------------------------------------\u001b[0m",
      "\u001b[0;31mMySQLInterfaceError\u001b[0m                       Traceback (most recent call last)",
      "\u001b[0;32m~/miniconda3/envs/nlp_project/lib/python3.8/site-packages/mysql/connector/connection_cext.py\u001b[0m in \u001b[0;36mcmd_query\u001b[0;34m(self, query, raw, buffered, raw_as_string)\u001b[0m\n\u001b[1;32m    506\u001b[0m                 \u001b[0mquery\u001b[0m \u001b[0;34m=\u001b[0m \u001b[0mquery\u001b[0m\u001b[0;34m.\u001b[0m\u001b[0mencode\u001b[0m\u001b[0;34m(\u001b[0m\u001b[0;34m'utf-8'\u001b[0m\u001b[0;34m)\u001b[0m\u001b[0;34m\u001b[0m\u001b[0;34m\u001b[0m\u001b[0m\n\u001b[0;32m--> 507\u001b[0;31m             self._cmysql.query(query,\n\u001b[0m\u001b[1;32m    508\u001b[0m                                \u001b[0mraw\u001b[0m\u001b[0;34m=\u001b[0m\u001b[0mraw\u001b[0m\u001b[0;34m,\u001b[0m \u001b[0mbuffered\u001b[0m\u001b[0;34m=\u001b[0m\u001b[0mbuffered\u001b[0m\u001b[0;34m,\u001b[0m\u001b[0;34m\u001b[0m\u001b[0;34m\u001b[0m\u001b[0m\n",
      "\u001b[0;31mMySQLInterfaceError\u001b[0m: Duplicate column name 'sentiment'",
      "\nDuring handling of the above exception, another exception occurred:\n",
      "\u001b[0;31mProgrammingError\u001b[0m                          Traceback (most recent call last)",
      "\u001b[0;32m<ipython-input-55-126a8737e686>\u001b[0m in \u001b[0;36m<module>\u001b[0;34m\u001b[0m\n\u001b[1;32m     14\u001b[0m \u001b[0mADD\u001b[0m \u001b[0mCOLUMN\u001b[0m \u001b[0msentiment\u001b[0m \u001b[0mVARCHAR\u001b[0m\u001b[0;34m(\u001b[0m\u001b[0;36m20\u001b[0m\u001b[0;34m)\u001b[0m \u001b[0mAFTER\u001b[0m \u001b[0mmovie_rev\u001b[0m\u001b[0;34m;\u001b[0m\u001b[0;34m\u001b[0m\u001b[0;34m\u001b[0m\u001b[0m\n\u001b[1;32m     15\u001b[0m \"\"\"\n\u001b[0;32m---> 16\u001b[0;31m \u001b[0mmycursor\u001b[0m\u001b[0;34m.\u001b[0m\u001b[0mexecute\u001b[0m\u001b[0;34m(\u001b[0m\u001b[0malter_table\u001b[0m\u001b[0;34m)\u001b[0m\u001b[0;34m\u001b[0m\u001b[0;34m\u001b[0m\u001b[0m\n\u001b[0m\u001b[1;32m     17\u001b[0m update_query = \"\"\"\n\u001b[1;32m     18\u001b[0m \u001b[0mUPDATE\u001b[0m \u001b[0mmovie_reviews\u001b[0m \u001b[0mSET\u001b[0m\u001b[0;34m\u001b[0m\u001b[0;34m\u001b[0m\u001b[0m\n",
      "\u001b[0;32m~/miniconda3/envs/nlp_project/lib/python3.8/site-packages/mysql/connector/cursor_cext.py\u001b[0m in \u001b[0;36mexecute\u001b[0;34m(self, operation, params, multi)\u001b[0m\n\u001b[1;32m    272\u001b[0m \u001b[0;34m\u001b[0m\u001b[0m\n\u001b[1;32m    273\u001b[0m         \u001b[0;32mtry\u001b[0m\u001b[0;34m:\u001b[0m\u001b[0;34m\u001b[0m\u001b[0;34m\u001b[0m\u001b[0m\n\u001b[0;32m--> 274\u001b[0;31m             result = self._cnx.cmd_query(stmt, raw=self._raw,\n\u001b[0m\u001b[1;32m    275\u001b[0m                                          \u001b[0mbuffered\u001b[0m\u001b[0;34m=\u001b[0m\u001b[0mself\u001b[0m\u001b[0;34m.\u001b[0m\u001b[0m_buffered\u001b[0m\u001b[0;34m,\u001b[0m\u001b[0;34m\u001b[0m\u001b[0;34m\u001b[0m\u001b[0m\n\u001b[1;32m    276\u001b[0m                                          raw_as_string=self._raw_as_string)\n",
      "\u001b[0;32m~/miniconda3/envs/nlp_project/lib/python3.8/site-packages/mysql/connector/connection_cext.py\u001b[0m in \u001b[0;36mcmd_query\u001b[0;34m(self, query, raw, buffered, raw_as_string)\u001b[0m\n\u001b[1;32m    509\u001b[0m                                raw_as_string=raw_as_string)\n\u001b[1;32m    510\u001b[0m         \u001b[0;32mexcept\u001b[0m \u001b[0mMySQLInterfaceError\u001b[0m \u001b[0;32mas\u001b[0m \u001b[0mexc\u001b[0m\u001b[0;34m:\u001b[0m\u001b[0;34m\u001b[0m\u001b[0;34m\u001b[0m\u001b[0m\n\u001b[0;32m--> 511\u001b[0;31m             raise errors.get_mysql_exception(exc.errno, msg=exc.msg,\n\u001b[0m\u001b[1;32m    512\u001b[0m                                              sqlstate=exc.sqlstate)\n\u001b[1;32m    513\u001b[0m         \u001b[0;32mexcept\u001b[0m \u001b[0mAttributeError\u001b[0m\u001b[0;34m:\u001b[0m\u001b[0;34m\u001b[0m\u001b[0;34m\u001b[0m\u001b[0m\n",
      "\u001b[0;31mProgrammingError\u001b[0m: 1060 (42S21): Duplicate column name 'sentiment'"
     ]
    }
   ],
   "source": [
    "mydb = mysql.connector.connect(\n",
    "    host=\"localhost\",\n",
    "    user=\"temp\",\n",
    "    passwd=\"password\",\n",
    "    database =\"RandomX\"\n",
    "    \n",
    ")\n",
    "\n",
    "mycursor = mydb.cursor()\n",
    "\n",
    "alter_table = \"\"\"\n",
    "\n",
    "ALTER TABLE movie_reviews\n",
    "ADD COLUMN sentiment VARCHAR(20) AFTER movie_rev;\n",
    "\"\"\"\n",
    "\n",
    "mycursor.execute(alter_table)\n",
    "\n",
    "\n",
    "update_query = \"\"\"\n",
    "UPDATE movie_reviews SET\n",
    "sentiment=%s WHERE\n",
    "review_id=%s\n",
    "\"\"\" \n",
    "\n",
    "sentiment = [(sentiment_array[i],i+1) for i in range(len(review_list))]\n",
    "mycursor.executemany(update_query,sentiment)\n",
    "mydb.commit()\n",
    "mycursor.close()"
   ]
  },
  {
   "source": [
    "## 4. Show the top 5 movie names with a rating strictly greater than 3.5, and the count of ‘positive’ sentiment is greater than equal to 2 for that movie."
   ],
   "cell_type": "markdown",
   "metadata": {}
  },
  {
   "cell_type": "code",
   "execution_count": 5,
   "metadata": {},
   "outputs": [
    {
     "output_type": "execute_result",
     "data": {
      "text/plain": [
       "                                          Movie_Name  Audience_Rating  \\\n",
       "0  The Lord of the Rings: The Fellowship of the Ring             4.75   \n",
       "1                                               Room             4.65   \n",
       "2                   The Man Who Shot Liberty Valance             4.60   \n",
       "3                                       Run Lola Run             4.50   \n",
       "4                            Star Trek Into Darkness             4.45   \n",
       "\n",
       "   Count of Positive Sentiment  \n",
       "0                            3  \n",
       "1                            5  \n",
       "2                            3  \n",
       "3                            2  \n",
       "4                            5  "
      ],
      "text/html": "<div>\n<style scoped>\n    .dataframe tbody tr th:only-of-type {\n        vertical-align: middle;\n    }\n\n    .dataframe tbody tr th {\n        vertical-align: top;\n    }\n\n    .dataframe thead th {\n        text-align: right;\n    }\n</style>\n<table border=\"1\" class=\"dataframe\">\n  <thead>\n    <tr style=\"text-align: right;\">\n      <th></th>\n      <th>Movie_Name</th>\n      <th>Audience_Rating</th>\n      <th>Count of Positive Sentiment</th>\n    </tr>\n  </thead>\n  <tbody>\n    <tr>\n      <th>0</th>\n      <td>The Lord of the Rings: The Fellowship of the Ring</td>\n      <td>4.75</td>\n      <td>3</td>\n    </tr>\n    <tr>\n      <th>1</th>\n      <td>Room</td>\n      <td>4.65</td>\n      <td>5</td>\n    </tr>\n    <tr>\n      <th>2</th>\n      <td>The Man Who Shot Liberty Valance</td>\n      <td>4.60</td>\n      <td>3</td>\n    </tr>\n    <tr>\n      <th>3</th>\n      <td>Run Lola Run</td>\n      <td>4.50</td>\n      <td>2</td>\n    </tr>\n    <tr>\n      <th>4</th>\n      <td>Star Trek Into Darkness</td>\n      <td>4.45</td>\n      <td>5</td>\n    </tr>\n  </tbody>\n</table>\n</div>"
     },
     "metadata": {},
     "execution_count": 5
    }
   ],
   "source": [
    "\n",
    "'''\n",
    "First movie_review table and movie_details table is joined on conditions both of their movie_ids are equal, audience rating is greater 3.5 and sentiment is positive.\n",
    "\n",
    "\n",
    "Now, the count of each movies is taken which and new table is created.\n",
    "\n",
    "From the new table, the movies with the count of positive review greater than 2 is filtered out and arranged first in the decreasing order of audience rating and then the decreasing order of number of positive reviews.\n",
    "\n",
    "\n",
    "'''\n",
    "import mysql.connector\n",
    "\n",
    "\n",
    "\n",
    "mydb = mysql.connector.connect(\n",
    "    host=\"localhost\",\n",
    "    user=\"temp\",\n",
    "    passwd=\"password\",\n",
    "    database =\"RandomX\"\n",
    "    \n",
    ")\n",
    "\n",
    "mycursor = mydb.cursor()\n",
    "\n",
    "\n",
    "query= \"\"\"\n",
    "\n",
    "\n",
    "select B.movie_title,B.audience_rating,\n",
    "B.Total_Positive\n",
    "from\n",
    "(select A.movie_title,A.audience_rating,\n",
    "COUNT(A.movie_title) Total_Positive\n",
    "from\n",
    "(select movie_details.movie_id,movie_details.movie_title,\n",
    "movie_details.audience_rating,movie_reviews.sentiment\n",
    "from movie_details inner join movie_reviews\n",
    "on movie_details.movie_id=movie_reviews.movie_id \n",
    "and movie_reviews.sentiment='positive' \n",
    "and movie_details.audience_rating>3.5) as A\n",
    "group by A.movie_title,A.audience_rating) as B\n",
    "where B.Total_Positive>=2 order by B.audience_rating desc,\n",
    "B.Total_Positive desc limit 5;\n",
    "\"\"\"\n",
    "\n",
    "mycursor.execute(query)\n",
    "result=[]\n",
    "for line in mycursor:\n",
    "    result.append(line)\n",
    "\n",
    "df =pd.DataFrame(result,columns=['Movie_Name','Audience_Rating','Count of Positive Sentiment'])\n",
    "\n",
    "df"
   ]
  },
  {
   "cell_type": "code",
   "execution_count": 60,
   "metadata": {},
   "outputs": [],
   "source": []
  }
 ]
}